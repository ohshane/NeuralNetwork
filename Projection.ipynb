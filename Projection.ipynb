{
 "cells": [
  {
   "cell_type": "code",
   "execution_count": 1,
   "metadata": {},
   "outputs": [],
   "source": [
    "import torch\n",
    "import torch.nn as nn\n",
    "import torch.nn.functional as F\n",
    "import matplotlib.pyplot as plt"
   ]
  },
  {
   "cell_type": "code",
   "execution_count": 65,
   "metadata": {},
   "outputs": [
    {
     "name": "stdout",
     "output_type": "stream",
     "text": [
      "A.shape = torch.Size([2, 4])\n",
      "tesseract.shape = torch.Size([4, 16])\n",
      "proj_tesseract.shape = torch.Size([2, 16])\n"
     ]
    }
   ],
   "source": [
    "bins = [f'{bin(i)[2:]:0>4}' for i in range(2**4)]\n",
    "bins = sorted(bins, key=lambda x: sum(map(int, x)))\n",
    "bins = [list(map(int, b)) for b in bins]\n",
    "tesseract = torch.FloatTensor(bins).T\n",
    "\n",
    "thetas = torch.linspace(0, torch.pi/2, 4)\n",
    "A = torch.cat([thetas.unsqueeze(0).cos(), thetas.unsqueeze(0).sin()], dim=0)\n",
    "\n",
    "print(f'{A.shape = }')\n",
    "print(f'{tesseract.shape = }')\n",
    "\n",
    "proj_tesseract = A@tesseract\n",
    "print(f'{proj_tesseract.shape = }')"
   ]
  },
  {
   "cell_type": "code",
   "execution_count": 73,
   "metadata": {},
   "outputs": [
    {
     "data": {
      "image/png": "[encoded data removed]",
      "text/plain": [
       "<Figure size 432x288 with 1 Axes>"
      ]
     },
     "metadata": {
      "needs_background": "light"
     },
     "output_type": "display_data"
    }
   ],
   "source": [
    "plt"
   ]
  }
 ],
 "metadata": {
  "kernelspec": {
   "display_name": "Python 3.9.12 64-bit ('base')",
   "language": "python",
   "name": "python3"
  },
  "language_info": {
   "codemirror_mode": {
    "name": "ipython",
    "version": 3
   },
   "file_extension": ".py",
   "mimetype": "text/x-python",
   "name": "python",
   "nbconvert_exporter": "python",
   "pygments_lexer": "ipython3",
   "version": "3.9.12"
  },
  "orig_nbformat": 4,
  "vscode": {
   "interpreter": {
    "hash": "86a3fa51e47a3c6fa0bce57667ba8eb4910bcc53a8cc182fec4d85739eda0a22"
   }
  }
 },
 "nbformat": 4,
 "nbformat_minor": 2
}
