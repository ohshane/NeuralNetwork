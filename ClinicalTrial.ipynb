{
 "cells": [
  {
   "cell_type": "markdown",
   "metadata": {},
   "source": [
    "**체외진단의료기기 임상적 성능시험 시 통계적 고려사항(민원인 안내서) (2023.12.)** 식약처 의료기기심사부 체외진단기기과\n"
   ]
  },
  {
   "cell_type": "code",
   "execution_count": 23,
   "metadata": {},
   "outputs": [
    {
     "data": {
      "image/png": "[encoded data removed]",
      "text/plain": [
       "<Figure size 400x200 with 1 Axes>"
      ]
     },
     "metadata": {},
     "output_type": "display_data"
    }
   ],
   "source": [
    "import matplotlib.pyplot as plt\n",
    "import numpy as np\n",
    "from scipy.stats import norm\n",
    "\n",
    "def interval_mask(x, lo=-np.inf, hi=np.inf):\n",
    "    return (norm.cdf(x) >= lo) & (norm.cdf(x) <= hi)\n",
    "\n",
    "x = np.linspace(-4,4,201)\n",
    "pdf = norm.pdf(x)\n",
    "\n",
    "plt.figure(figsize=(4,2))\n",
    "plt.title(\"95% CI\")\n",
    "plt.plot(x, pdf)\n",
    "mask = interval_mask(x, 0.025, 0.975)\n",
    "plt.fill_between(x[mask], np.zeros_like(pdf)[mask], pdf[mask], alpha=.4)\n",
    "plt.show()\n"
   ]
  },
  {
   "cell_type": "markdown",
   "metadata": {},
   "source": [
    "1.2. 통계적 가설 검정 또는 추정을 고려한 설계\n",
    "\n",
    "(1) 통계적 가설 검정"
   ]
  },
  {
   "cell_type": "markdown",
   "metadata": {},
   "source": [
    "\n",
    "임상적 성능시험에서 통계적 추론은 모집단(검사 대상자 전체)에 대한 미지의 특성(성능)을 평가하기 위해 표본(시험 대상자)를 통해 모집단의 특성을 추측하고, 추측된 성능값을 이용하여 모집단에서의 실제 성능에 대한 주장(귀무가설, 대립가설)이 옳은지 판단하는 일련의 의사결정 과정."
   ]
  },
  {
   "cell_type": "markdown",
   "metadata": {},
   "source": [
    "통계적 가설 검증은 모수 또는 모집단 분포에 대한 가설(Hypothesis)를 세우고, 표본을 기초로 가설의 참 거짓을 판단하는 방법으로 이 때 사용하는 가설의 종류로는 통상적으로 연구자가 시험을 통해 입증하려는 가설인 대립가설(Alternative hypothesis, $H_1$), 대립가설과 상반된 가설인 귀무가설(또는 영가설)(Null hypothesis, $H_0$)이 있다."
   ]
  },
  {
   "cell_type": "markdown",
   "metadata": {},
   "source": [
    "가설검정을 위해 사용되는 통계량을 검정통계량(e.g. z-score)이라고 하며 $\\alpha$로 표시되는 유의수준(Significance level)은 참인 귀무가설을 기각하는 1종 오류의 확률이다. 전통적으로 $0.05$를 사용한다.\n",
    "\n",
    "검정력(Statistical power)은 거짓인 귀무가설을 기각할 확률이며, $1-\\beta$와 같다. $\\beta$는 2종 오류의 확률로 거짓인 귀무가설이 기각되지 않을 확률이다. 통계적으로 2종 오류를 $0.2$까지 고려하여 검정력은 $80\\%$까지 갖을 수 있다."
   ]
  },
  {
   "cell_type": "markdown",
   "metadata": {},
   "source": [
    "가설검정을 목적으로 하는 확증 임상시험에서는 일반적으로 $\\alpha$를 양측검정일 경우 $5\\%$, 단측검정일 경우 $2.5\\%$로 권고되고 있다.\n",
    "\n",
    "따라서 양측검정에서는 일반적으로 신뢰수준($1-\\alpha$)을 $0.95$로 설정하고 있으며, 표준정규분포 상의 상한과 하한의 $z$값은 $z_{α/2} = 1.96$이 된다. 단측검정에서는 신뢰수준($1-\\alpha$)를 $0.975$로 한정하므로, 표준정규분포 상한 또는 하한의 $z$값은 역시 $z_\\alpha = 1.96$으로 설정한다. "
   ]
  },
  {
   "cell_type": "markdown",
   "metadata": {},
   "source": [
    "(2) 통계적 추정"
   ]
  },
  {
   "cell_type": "markdown",
   "metadata": {},
   "source": [
    "추정은 모집단의 특성값에 대해 제한된 규모의 표본을 추출하고, 표본의 정보로부터 모수의 값을 추측하는 과정이며, 최종 결론은 시험을 통해 얻어진 추정값을 판단 기준과 비교하게 된다. 결국 \"시험기기의 민감도와 특이도는 XX%, YY%이다\"라는 결론만을 얻을 수 있으며, 참조방법이나 대조기기에 비하여 차이가 난다, 우월하다 또는 비열등하다는 주장은 할 수 없다."
   ]
  }
 ],
 "metadata": {
  "kernelspec": {
   "display_name": "Python 3",
   "language": "python",
   "name": "python3"
  },
  "language_info": {
   "codemirror_mode": {
    "name": "ipython",
    "version": 3
   },
   "file_extension": ".py",
   "mimetype": "text/x-python",
   "name": "python",
   "nbconvert_exporter": "python",
   "pygments_lexer": "ipython3",
   "version": "3.11.7"
  }
 },
 "nbformat": 4,
 "nbformat_minor": 2
}
