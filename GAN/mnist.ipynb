{
 "cells": [
  {
   "cell_type": "code",
   "execution_count": null,
   "metadata": {},
   "outputs": [],
   "source": []
  }
 ],
 "metadata": {
  "kernelspec": {
   "display_name": "Python 3.9.12 64-bit ('base')",
   "language": "python",
   "name": "python3"
  },
  "language_info": {
   "name": "python",
   "version": "3.9.12"
  },
  "orig_nbformat": 4,
  "vscode": {
   "interpreter": {
    "hash": "86a3fa51e47a3c6fa0bce57667ba8eb4910bcc53a8cc182fec4d85739eda0a22"
   }
  }
 },
 "nbformat": 4,
 "nbformat_minor": 2
}
