{
 "cells": [
  {
   "attachments": {},
   "cell_type": "markdown",
   "metadata": {},
   "source": [
    "### Let's build GPT: from scratch, in code, spelled out.\n",
    "\n",
    "https://www.youtube.com/watch?v=kCc8FmEb1nY\n",
    "\n",
    "https://github.com/karpathy/nanoGPT\n",
    "\n",
    "https://github.com/karpathy/ng-video-lecture"
   ]
  },
  {
   "cell_type": "code",
   "execution_count": 35,
   "metadata": {},
   "outputs": [
    {
     "data": {
      "text/plain": [
       "1115394"
      ]
     },
     "execution_count": 35,
     "metadata": {},
     "output_type": "execute_result"
    }
   ],
   "source": [
    "import torch\n",
    "from pathlib import Path\n",
    "\n",
    "data_path = Path('data')\n",
    "with open(data_path / 'shakespeare.txt') as f:\n",
    "    text = f.read()\n",
    "\n",
    "len(text)"
   ]
  },
  {
   "cell_type": "code",
   "execution_count": 36,
   "metadata": {},
   "outputs": [
    {
     "data": {
      "text/plain": [
       "(65, \"\\n !$&',-.3:;?ABCDEFGHIJKLMNOPQRSTUVWXYZabcdefghijklmnopqrstuvwxyz\")"
      ]
     },
     "execution_count": 36,
     "metadata": {},
     "output_type": "execute_result"
    }
   ],
   "source": [
    "chars = sorted(list(set(text)))\n",
    "len(chars), ''.join(chars)"
   ]
  },
  {
   "cell_type": "code",
   "execution_count": 37,
   "metadata": {},
   "outputs": [
    {
     "data": {
      "text/plain": [
       "([46, 43, 50, 50, 53], ['h', 'e', 'l', 'l', 'o'])"
      ]
     },
     "execution_count": 37,
     "metadata": {},
     "output_type": "execute_result"
    }
   ],
   "source": [
    "# tiktoken for alternative\n",
    "\n",
    "index_dict = dict(enumerate(chars))\n",
    "char_dict = {c: i for i, c in enumerate(chars)}\n",
    "\n",
    "index2char = lambda i: index_dict[i]\n",
    "char2index = lambda c: char_dict[c]\n",
    "\n",
    "encoded = list(map(char2index, 'hello'))\n",
    "decoded = list(map(index2char, encoded))\n",
    "encoded, decoded"
   ]
  },
  {
   "cell_type": "code",
   "execution_count": 38,
   "metadata": {},
   "outputs": [
    {
     "data": {
      "text/plain": [
       "torch.Size([1115394])"
      ]
     },
     "execution_count": 38,
     "metadata": {},
     "output_type": "execute_result"
    }
   ],
   "source": [
    "data = list(map(char2index, text))\n",
    "data = torch.tensor(data)\n",
    "data.shape"
   ]
  },
  {
   "cell_type": "code",
   "execution_count": 41,
   "metadata": {},
   "outputs": [
    {
     "data": {
      "text/plain": [
       "(torch.Size([1003854]), torch.Size([111540]))"
      ]
     },
     "execution_count": 41,
     "metadata": {},
     "output_type": "execute_result"
    }
   ],
   "source": [
    "idx = int(len(data)*.9)\n",
    "train_data, val_data = data[:idx], data[idx:]\n",
    "train_data.shape, val_data.shape"
   ]
  },
  {
   "cell_type": "code",
   "execution_count": 52,
   "metadata": {},
   "outputs": [
    {
     "name": "stdout",
     "output_type": "stream",
     "text": [
      "tensor([18, 47, 56, 57, 58,  1, 15, 47, 58])\n",
      "input:                                     [18] -> target: 47\n",
      "input:                                 [18, 47] -> target: 56\n",
      "input:                             [18, 47, 56] -> target: 57\n",
      "input:                         [18, 47, 56, 57] -> target: 58\n",
      "input:                     [18, 47, 56, 57, 58] -> target: 1\n",
      "input:                  [18, 47, 56, 57, 58, 1] -> target: 15\n",
      "input:              [18, 47, 56, 57, 58, 1, 15] -> target: 47\n",
      "input:          [18, 47, 56, 57, 58, 1, 15, 47] -> target: 58\n"
     ]
    }
   ],
   "source": [
    "block_size = 8\n",
    "\n",
    "print(train_data[:block_size+1])\n",
    "x = train_data[:block_size]\n",
    "y = train_data[1:block_size+1]\n",
    "for i in range(block_size):\n",
    "    context = x[:i+1]\n",
    "    target = y[i]\n",
    "    print(f\"input: {str(context.tolist()):>40} -> target: {target}\")"
   ]
  }
 ],
 "metadata": {
  "kernelspec": {
   "display_name": "base",
   "language": "python",
   "name": "python3"
  },
  "language_info": {
   "codemirror_mode": {
    "name": "ipython",
    "version": 3
   },
   "file_extension": ".py",
   "mimetype": "text/x-python",
   "name": "python",
   "nbconvert_exporter": "python",
   "pygments_lexer": "ipython3",
   "version": "3.9.12"
  },
  "orig_nbformat": 4
 },
 "nbformat": 4,
 "nbformat_minor": 2
}
