{
 "cells": [
  {
   "attachments": {},
   "cell_type": "markdown",
   "metadata": {},
   "source": [
    "### word embedding\n",
    "https://wikidocs.net/22644"
   ]
  },
  {
   "cell_type": "code",
   "execution_count": 43,
   "metadata": {},
   "outputs": [],
   "source": [
    "import torch\n",
    "import torch.nn as nn\n",
    "import matplotlib.pyplot as plt\n",
    "import pandas as pd"
   ]
  },
  {
   "attachments": {},
   "cell_type": "markdown",
   "metadata": {},
   "source": [
    "#### sparse representation"
   ]
  },
  {
   "cell_type": "code",
   "execution_count": 44,
   "metadata": {},
   "outputs": [
    {
     "data": {
      "text/html": [
       "<div>\n",
       "<style scoped>\n",
       "    .dataframe tbody tr th:only-of-type {\n",
       "        vertical-align: middle;\n",
       "    }\n",
       "\n",
       "    .dataframe tbody tr th {\n",
       "        vertical-align: top;\n",
       "    }\n",
       "\n",
       "    .dataframe thead th {\n",
       "        text-align: right;\n",
       "    }\n",
       "</style>\n",
       "<table border=\"1\" class=\"dataframe\">\n",
       "  <thead>\n",
       "    <tr style=\"text-align: right;\">\n",
       "      <th></th>\n",
       "      <th>word</th>\n",
       "    </tr>\n",
       "  </thead>\n",
       "  <tbody>\n",
       "    <tr>\n",
       "      <th>0</th>\n",
       "      <td>this</td>\n",
       "    </tr>\n",
       "    <tr>\n",
       "      <th>1</th>\n",
       "      <td>sentence</td>\n",
       "    </tr>\n",
       "    <tr>\n",
       "      <th>2</th>\n",
       "      <td>can</td>\n",
       "    </tr>\n",
       "    <tr>\n",
       "      <th>3</th>\n",
       "      <td>written</td>\n",
       "    </tr>\n",
       "    <tr>\n",
       "      <th>4</th>\n",
       "      <td>example</td>\n",
       "    </tr>\n",
       "    <tr>\n",
       "      <th>5</th>\n",
       "      <td>as</td>\n",
       "    </tr>\n",
       "    <tr>\n",
       "      <th>6</th>\n",
       "      <td>which</td>\n",
       "    </tr>\n",
       "    <tr>\n",
       "      <th>7</th>\n",
       "      <td>is</td>\n",
       "    </tr>\n",
       "    <tr>\n",
       "      <th>8</th>\n",
       "      <td>an</td>\n",
       "    </tr>\n",
       "    <tr>\n",
       "      <th>9</th>\n",
       "      <td>be</td>\n",
       "    </tr>\n",
       "    <tr>\n",
       "      <th>10</th>\n",
       "      <td>of</td>\n",
       "    </tr>\n",
       "  </tbody>\n",
       "</table>\n",
       "</div>"
      ],
      "text/plain": [
       "        word\n",
       "0       this\n",
       "1   sentence\n",
       "2        can\n",
       "3    written\n",
       "4    example\n",
       "5         as\n",
       "6      which\n",
       "7         is\n",
       "8         an\n",
       "9         be\n",
       "10        of"
      ]
     },
     "execution_count": 44,
     "metadata": {},
     "output_type": "execute_result"
    }
   ],
   "source": [
    "sentence = \"An example can be written as this sentence, which is an example of an example sentence.\"\n",
    "\n",
    "sentence = sentence.lower().replace('.', '').replace(',', '')\n",
    "words = sentence.split()\n",
    "\n",
    "vocab_df = pd.DataFrame(set(words), columns=[\"word\"])\n",
    "vocab_df"
   ]
  },
  {
   "cell_type": "code",
   "execution_count": 45,
   "metadata": {},
   "outputs": [
    {
     "data": {
      "text/html": [
       "<div>\n",
       "<style scoped>\n",
       "    .dataframe tbody tr th:only-of-type {\n",
       "        vertical-align: middle;\n",
       "    }\n",
       "\n",
       "    .dataframe tbody tr th {\n",
       "        vertical-align: top;\n",
       "    }\n",
       "\n",
       "    .dataframe thead th {\n",
       "        text-align: right;\n",
       "    }\n",
       "</style>\n",
       "<table border=\"1\" class=\"dataframe\">\n",
       "  <thead>\n",
       "    <tr style=\"text-align: right;\">\n",
       "      <th></th>\n",
       "      <th>sentence</th>\n",
       "      <th>onehot</th>\n",
       "    </tr>\n",
       "  </thead>\n",
       "  <tbody>\n",
       "    <tr>\n",
       "      <th>0</th>\n",
       "      <td>an</td>\n",
       "      <td>[0, 0, 0, 0, 0, 0, 0, 0, 1, 0, 0]</td>\n",
       "    </tr>\n",
       "    <tr>\n",
       "      <th>1</th>\n",
       "      <td>example</td>\n",
       "      <td>[0, 0, 0, 0, 1, 0, 0, 0, 0, 0, 0]</td>\n",
       "    </tr>\n",
       "    <tr>\n",
       "      <th>2</th>\n",
       "      <td>can</td>\n",
       "      <td>[0, 0, 1, 0, 0, 0, 0, 0, 0, 0, 0]</td>\n",
       "    </tr>\n",
       "    <tr>\n",
       "      <th>3</th>\n",
       "      <td>be</td>\n",
       "      <td>[0, 0, 0, 0, 0, 0, 0, 0, 0, 1, 0]</td>\n",
       "    </tr>\n",
       "    <tr>\n",
       "      <th>4</th>\n",
       "      <td>written</td>\n",
       "      <td>[0, 0, 0, 1, 0, 0, 0, 0, 0, 0, 0]</td>\n",
       "    </tr>\n",
       "    <tr>\n",
       "      <th>5</th>\n",
       "      <td>as</td>\n",
       "      <td>[0, 0, 0, 0, 0, 1, 0, 0, 0, 0, 0]</td>\n",
       "    </tr>\n",
       "    <tr>\n",
       "      <th>6</th>\n",
       "      <td>this</td>\n",
       "      <td>[1, 0, 0, 0, 0, 0, 0, 0, 0, 0, 0]</td>\n",
       "    </tr>\n",
       "    <tr>\n",
       "      <th>7</th>\n",
       "      <td>sentence</td>\n",
       "      <td>[0, 1, 0, 0, 0, 0, 0, 0, 0, 0, 0]</td>\n",
       "    </tr>\n",
       "    <tr>\n",
       "      <th>8</th>\n",
       "      <td>which</td>\n",
       "      <td>[0, 0, 0, 0, 0, 0, 1, 0, 0, 0, 0]</td>\n",
       "    </tr>\n",
       "    <tr>\n",
       "      <th>9</th>\n",
       "      <td>is</td>\n",
       "      <td>[0, 0, 0, 0, 0, 0, 0, 1, 0, 0, 0]</td>\n",
       "    </tr>\n",
       "    <tr>\n",
       "      <th>10</th>\n",
       "      <td>an</td>\n",
       "      <td>[0, 0, 0, 0, 0, 0, 0, 0, 1, 0, 0]</td>\n",
       "    </tr>\n",
       "    <tr>\n",
       "      <th>11</th>\n",
       "      <td>example</td>\n",
       "      <td>[0, 0, 0, 0, 1, 0, 0, 0, 0, 0, 0]</td>\n",
       "    </tr>\n",
       "    <tr>\n",
       "      <th>12</th>\n",
       "      <td>of</td>\n",
       "      <td>[0, 0, 0, 0, 0, 0, 0, 0, 0, 0, 1]</td>\n",
       "    </tr>\n",
       "    <tr>\n",
       "      <th>13</th>\n",
       "      <td>an</td>\n",
       "      <td>[0, 0, 0, 0, 0, 0, 0, 0, 1, 0, 0]</td>\n",
       "    </tr>\n",
       "    <tr>\n",
       "      <th>14</th>\n",
       "      <td>example</td>\n",
       "      <td>[0, 0, 0, 0, 1, 0, 0, 0, 0, 0, 0]</td>\n",
       "    </tr>\n",
       "    <tr>\n",
       "      <th>15</th>\n",
       "      <td>sentence</td>\n",
       "      <td>[0, 1, 0, 0, 0, 0, 0, 0, 0, 0, 0]</td>\n",
       "    </tr>\n",
       "  </tbody>\n",
       "</table>\n",
       "</div>"
      ],
      "text/plain": [
       "    sentence                             onehot\n",
       "0         an  [0, 0, 0, 0, 0, 0, 0, 0, 1, 0, 0]\n",
       "1    example  [0, 0, 0, 0, 1, 0, 0, 0, 0, 0, 0]\n",
       "2        can  [0, 0, 1, 0, 0, 0, 0, 0, 0, 0, 0]\n",
       "3         be  [0, 0, 0, 0, 0, 0, 0, 0, 0, 1, 0]\n",
       "4    written  [0, 0, 0, 1, 0, 0, 0, 0, 0, 0, 0]\n",
       "5         as  [0, 0, 0, 0, 0, 1, 0, 0, 0, 0, 0]\n",
       "6       this  [1, 0, 0, 0, 0, 0, 0, 0, 0, 0, 0]\n",
       "7   sentence  [0, 1, 0, 0, 0, 0, 0, 0, 0, 0, 0]\n",
       "8      which  [0, 0, 0, 0, 0, 0, 1, 0, 0, 0, 0]\n",
       "9         is  [0, 0, 0, 0, 0, 0, 0, 1, 0, 0, 0]\n",
       "10        an  [0, 0, 0, 0, 0, 0, 0, 0, 1, 0, 0]\n",
       "11   example  [0, 0, 0, 0, 1, 0, 0, 0, 0, 0, 0]\n",
       "12        of  [0, 0, 0, 0, 0, 0, 0, 0, 0, 0, 1]\n",
       "13        an  [0, 0, 0, 0, 0, 0, 0, 0, 1, 0, 0]\n",
       "14   example  [0, 0, 0, 0, 1, 0, 0, 0, 0, 0, 0]\n",
       "15  sentence  [0, 1, 0, 0, 0, 0, 0, 0, 0, 0, 0]"
      ]
     },
     "metadata": {},
     "output_type": "display_data"
    },
    {
     "data": {
      "image/png": "[encoded data removed]",
      "text/plain": [
       "<Figure size 432x288 with 1 Axes>"
      ]
     },
     "metadata": {
      "needs_background": "light"
     },
     "output_type": "display_data"
    }
   ],
   "source": [
    "onehot_df = pd.DataFrame(dict.fromkeys([\"sentence\", \"onehot\"], words))\n",
    "onehot_df.onehot = onehot_df.onehot.apply(lambda x: list(vocab_df.word).index(x))\n",
    "onehot_df.onehot = onehot_df.onehot.apply(lambda x: [int(x==i) for i in range(len(vocab_df))])\n",
    "\n",
    "display(onehot_df)\n",
    "X = torch.tensor(onehot_df.onehot.tolist())\n",
    "\n",
    "plt.imshow(X, cmap='binary_r')\n",
    "plt.yticks(range(len(words)), words)\n",
    "plt.show()"
   ]
  },
  {
   "attachments": {},
   "cell_type": "markdown",
   "metadata": {},
   "source": [
    "#### Word2Vec"
   ]
  },
  {
   "cell_type": "code",
   "execution_count": 46,
   "metadata": {},
   "outputs": [
    {
     "name": "stdout",
     "output_type": "stream",
     "text": [
      "['an', 'example', 'can', 'be', 'written', 'as', 'this', 'sentence', 'which', 'is', 'an', 'example', 'of', 'an', 'example', 'sentence']\n"
     ]
    }
   ],
   "source": [
    "print(words)\n",
    "\n",
    "window_size = 5\n",
    "for idx in range(len(words)):\n",
    "    a = [i for i in range(-int(window_size/2)+idx, int(window_size/2)+idx+1) if i != idx and 0 <= i < len(words)]"
   ]
  },
  {
   "cell_type": "code",
   "execution_count": 47,
   "metadata": {},
   "outputs": [
    {
     "data": {
      "text/plain": [
       "{'i': 0,\n",
       " 'love': 1,\n",
       " 'to': 2,\n",
       " 'eat': 3,\n",
       " 'pizza': 4,\n",
       " 'like': 5,\n",
       " 'playing': 6,\n",
       " 'soccer': 7,\n",
       " 'enjoy': 8,\n",
       " 'reading': 9,\n",
       " 'books': 10,\n",
       " 'prefer': 11,\n",
       " 'tea': 12,\n",
       " 'over': 13,\n",
       " 'coffee': 14}"
      ]
     },
     "execution_count": 47,
     "metadata": {},
     "output_type": "execute_result"
    }
   ],
   "source": [
    "sentences = [\n",
    "    'I love to eat pizza',\n",
    "    'I like playing soccer',\n",
    "    'I enjoy reading books',\n",
    "    'I prefer tea over coffee',\n",
    "]\n",
    "\n",
    "word_to_index = {}\n",
    "index = 0\n",
    "for sentence in sentences:\n",
    "    words = sentence.lower().split()\n",
    "    for word in words:\n",
    "        if word not in word_to_index:\n",
    "            word_to_index[word] = index\n",
    "            index += 1\n",
    "\n",
    "word_to_index"
   ]
  },
  {
   "cell_type": "code",
   "execution_count": 48,
   "metadata": {},
   "outputs": [
    {
     "data": {
      "text/plain": [
       "([['i', 'love', 'eat', 'pizza'], ['i', 'prefer', 'over', 'coffee']],\n",
       " ['to', 'tea'])"
      ]
     },
     "execution_count": 48,
     "metadata": {},
     "output_type": "execute_result"
    }
   ],
   "source": [
    "context_size = 2  # Number of context words on each side\n",
    "input_sequences = []\n",
    "output_words = []\n",
    "for sentence in sentences:\n",
    "    words = sentence.lower().split()\n",
    "    for i in range(context_size, len(words) - context_size):\n",
    "        context_words = [words[j] for j in range(i - context_size, i)] + [words[j] for j in range(i + 1, i + context_size + 1)]\n",
    "        target_word = words[i]\n",
    "        input_sequences.append(context_words)\n",
    "        output_words.append(target_word)\n",
    "\n",
    "input_sequences, output_words"
   ]
  }
 ],
 "metadata": {
  "kernelspec": {
   "display_name": "base",
   "language": "python",
   "name": "python3"
  },
  "language_info": {
   "codemirror_mode": {
    "name": "ipython",
    "version": 3
   },
   "file_extension": ".py",
   "mimetype": "text/x-python",
   "name": "python",
   "nbconvert_exporter": "python",
   "pygments_lexer": "ipython3",
   "version": "3.9.12"
  },
  "orig_nbformat": 4
 },
 "nbformat": 4,
 "nbformat_minor": 2
}
