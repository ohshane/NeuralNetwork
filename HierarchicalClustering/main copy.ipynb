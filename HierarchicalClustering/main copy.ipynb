{
 "cells": [
  {
   "cell_type": "markdown",
   "metadata": {},
   "source": [
    "https://gmarti.gitlab.io/ml/2017/09/07/how-to-sort-distance-matrix.html\n",
    "\n",
    "https://en.wikipedia.org/wiki/Hierarchical_clustering"
   ]
  },
  {
   "cell_type": "code",
   "execution_count": 1,
   "metadata": {},
   "outputs": [
    {
     "data": {
      "image/png": "[encoded data removed]",
      "text/plain": [
       "<Figure size 432x432 with 1 Axes>"
      ]
     },
     "metadata": {
      "needs_background": "light"
     },
     "output_type": "display_data"
    }
   ],
   "source": [
    "import torch\n",
    "import torch.nn as nn\n",
    "import matplotlib.pyplot as plt\n",
    "import scipy.cluster.hierarchy as sch\n",
    "\n",
    "\n",
    "P = torch.FloatTensor([[1,1], [3,2], [9,1], [3,7], [7,2], [9,7], [4,8], [8,3], [1,4]])\n",
    "\n",
    "plt.figure(figsize=(6,6))\n",
    "plt.scatter(*P.T, s=100)\n",
    "for i, p in enumerate(P, start=0):\n",
    "    plt.annotate(rf\"$p_{i}$\", xy=p, size=14)\n",
    "plt.axis('equal')\n",
    "plt.grid()\n",
    "plt.show()"
   ]
  },
  {
   "cell_type": "code",
   "execution_count": 2,
   "metadata": {},
   "outputs": [
    {
     "data": {
      "text/plain": [
       "array([[ 6.        ,  3.        ,  1.41421354,  2.        ],\n",
       "       [ 7.        ,  4.        ,  1.41421354,  2.        ],\n",
       "       [ 2.        , 10.        ,  2.12132038,  3.        ],\n",
       "       [ 1.        ,  0.        ,  2.23606801,  2.        ],\n",
       "       [ 8.        , 12.        ,  2.69258237,  3.        ],\n",
       "       [11.        ,  5.        ,  5.09901946,  4.        ],\n",
       "       [ 9.        , 13.        ,  5.48229481,  5.        ],\n",
       "       [14.        , 15.        ,  5.96196274,  9.        ]])"
      ]
     },
     "execution_count": 2,
     "metadata": {},
     "output_type": "execute_result"
    }
   ],
   "source": [
    "L = sch.linkage(torch.pdist(P, p=2),\n",
    "                method='centroid',\n",
    "                metric='euclidean',\n",
    "                optimal_ordering=True)\n",
    "L"
   ]
  },
  {
   "cell_type": "code",
   "execution_count": 3,
   "metadata": {},
   "outputs": [
    {
     "data": {
      "image/png": "[encoded data removed]",
      "text/plain": [
       "<Figure size 288x288 with 1 Axes>"
      ]
     },
     "metadata": {
      "needs_background": "light"
     },
     "output_type": "display_data"
    }
   ],
   "source": [
    "dist = torch.cdist(P, P, p=2)\n",
    "\n",
    "plt.figure(figsize=(4,4))\n",
    "plt.imshow(dist, cmap='Blues')\n",
    "plt.xticks(range(len(P)))\n",
    "plt.yticks(range(len(P)))\n",
    "plt.show()"
   ]
  },
  {
   "cell_type": "code",
   "execution_count": 4,
   "metadata": {},
   "outputs": [
    {
     "data": {
      "application/vnd.jupyter.widget-view+json": {
       "model_id": "b40a518b4c6e4f1599b034fde62b5a73",
       "version_major": 2,
       "version_minor": 0
      },
      "text/plain": [
       "Button(description='Button', style=ButtonStyle())"
      ]
     },
     "metadata": {},
     "output_type": "display_data"
    },
    {
     "data": {
      "application/vnd.jupyter.widget-view+json": {
       "model_id": "225dfacc8e7c40d8aff5d251341479d6",
       "version_major": 2,
       "version_minor": 0
      },
      "text/plain": [
       "Output()"
      ]
     },
     "metadata": {},
     "output_type": "display_data"
    }
   ],
   "source": [
    "import ipywidgets as widgets\n",
    "from IPython.display import display, clear_output\n",
    "import random\n",
    "\n",
    "button = widgets.Button(description=\"Button\")\n",
    "out = widgets.Output()\n",
    "\n",
    "P = []\n",
    "\n",
    "def on_click_handler(b):\n",
    "    with out:\n",
    "        clear_output()\n",
    "        P.append([random.randint(0,9) for _ in range(2)])\n",
    "\n",
    "        plt.figure(figsize=(4,4))\n",
    "        plt.scatter(\n",
    "            *torch.tensor(P).T\n",
    "        )\n",
    "        plt.show()\n",
    "\n",
    "button.on_click(on_click_handler)\n",
    "\n",
    "display(button)\n",
    "display(out)"
   ]
  },
  {
   "cell_type": "code",
   "execution_count": 5,
   "metadata": {},
   "outputs": [
    {
     "ename": "TypeError",
     "evalue": "observe() missing 1 required positional argument: 'handler'",
     "output_type": "error",
     "traceback": [
      "\u001b[0;31m---------------------------------------------------------------------------\u001b[0m",
      "\u001b[0;31mTypeError\u001b[0m                                 Traceback (most recent call last)",
      "\u001b[1;32m/Users/shane/workspace/NeuralNetwork/HierarchicalClustering/main copy.ipynb Cell 6\u001b[0m in \u001b[0;36m<cell line: 5>\u001b[0;34m()\u001b[0m\n\u001b[1;32m      <a href='vscode-notebook-cell:/Users/shane/workspace/NeuralNetwork/HierarchicalClustering/main%20copy.ipynb#W5sZmlsZQ%3D%3D?line=1'>2</a>\u001b[0m \u001b[39mfrom\u001b[39;00m \u001b[39mIPython\u001b[39;00m\u001b[39m.\u001b[39;00m\u001b[39mdisplay\u001b[39;00m \u001b[39mimport\u001b[39;00m display, clear_output\n\u001b[1;32m      <a href='vscode-notebook-cell:/Users/shane/workspace/NeuralNetwork/HierarchicalClustering/main%20copy.ipynb#W5sZmlsZQ%3D%3D?line=3'>4</a>\u001b[0m slider \u001b[39m=\u001b[39m widgets\u001b[39m.\u001b[39mIntSlider(\u001b[39m50\u001b[39m, \u001b[39m0\u001b[39m, \u001b[39m100\u001b[39m, \u001b[39m1\u001b[39m)\n\u001b[0;32m----> <a href='vscode-notebook-cell:/Users/shane/workspace/NeuralNetwork/HierarchicalClustering/main%20copy.ipynb#W5sZmlsZQ%3D%3D?line=4'>5</a>\u001b[0m slider\u001b[39m.\u001b[39;49mobserve()\n\u001b[1;32m      <a href='vscode-notebook-cell:/Users/shane/workspace/NeuralNetwork/HierarchicalClustering/main%20copy.ipynb#W5sZmlsZQ%3D%3D?line=6'>7</a>\u001b[0m display(slider)\n",
      "\u001b[0;31mTypeError\u001b[0m: observe() missing 1 required positional argument: 'handler'"
     ]
    }
   ],
   "source": [
    "import ipywidgets as widgets\n",
    "from IPython.display import display, clear_output\n",
    "\n",
    "slider = widgets.IntSlider(50, 0, 100, 1)\n",
    "slider.observe()\n",
    "\n",
    "display(slider)"
   ]
  }
 ],
 "metadata": {
  "kernelspec": {
   "display_name": "base",
   "language": "python",
   "name": "python3"
  },
  "language_info": {
   "codemirror_mode": {
    "name": "ipython",
    "version": 3
   },
   "file_extension": ".py",
   "mimetype": "text/x-python",
   "name": "python",
   "nbconvert_exporter": "python",
   "pygments_lexer": "ipython3",
   "version": "3.9.12"
  },
  "orig_nbformat": 4
 },
 "nbformat": 4,
 "nbformat_minor": 2
}
