{
 "cells": [
  {
   "cell_type": "code",
   "execution_count": 9,
   "metadata": {},
   "outputs": [],
   "source": [
    "import torch\n",
    "import torch.nn as nn"
   ]
  },
  {
   "cell_type": "code",
   "execution_count": 12,
   "metadata": {},
   "outputs": [
    {
     "data": {
      "text/plain": [
       "(tensor([[[-0.6709,  0.8300,  2.2800, -0.5922, -0.4733, -0.5894],\n",
       "          [-1.0164,  0.6477, -1.8601,  0.3396,  0.6815,  1.7503],\n",
       "          [ 0.3602, -0.5791, -1.0284, -0.6727,  0.7353,  1.2055],\n",
       "          [ 0.7977, -1.2770, -0.0724, -0.6745, -0.7639,  0.8656],\n",
       "          [ 0.1923, -1.0536, -0.8601, -0.1946, -0.8555,  0.7762],\n",
       "          [ 0.3012,  1.3592,  1.1509, -0.1757,  1.8501,  0.0241]]]),\n",
       " tensor([[[ 0.8300,  2.2800,  1.7503],\n",
       "          [ 0.7977, -0.0724,  1.2055],\n",
       "          [ 1.3592,  1.1509,  1.8501]]]))"
      ]
     },
     "execution_count": 12,
     "metadata": {},
     "output_type": "execute_result"
    }
   ],
   "source": [
    "maxpool = nn.MaxPool2d(2, 2)\n",
    "\n",
    "x = torch.randn(1, 6, 6)\n",
    "x, maxpool(x)"
   ]
  }
 ],
 "metadata": {
  "kernelspec": {
   "display_name": "base",
   "language": "python",
   "name": "python3"
  },
  "language_info": {
   "codemirror_mode": {
    "name": "ipython",
    "version": 3
   },
   "file_extension": ".py",
   "mimetype": "text/x-python",
   "name": "python",
   "nbconvert_exporter": "python",
   "pygments_lexer": "ipython3",
   "version": "3.9.12"
  },
  "orig_nbformat": 4
 },
 "nbformat": 4,
 "nbformat_minor": 2
}
