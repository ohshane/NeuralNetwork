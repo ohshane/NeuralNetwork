{
 "cells": [
  {
   "cell_type": "code",
   "execution_count": 1,
   "metadata": {},
   "outputs": [],
   "source": [
    "import torch\n",
    "import torch.nn as nn\n",
    "import torch.nn.functional as F\n",
    "import torch.optim as optim\n",
    "import matplotlib.pyplot as plt\n",
    "import numpy as np\n",
    "import pandas as pd"
   ]
  },
  {
   "cell_type": "markdown",
   "metadata": {},
   "source": [
    "### Entropy (bits)\n",
    "\n",
    "$$\n",
    "H_{2}(X) = -\\sum_{i=1}^{n}p(x_{i})\\log_2{p(x_{i})}\n",
    "$$"
   ]
  },
  {
   "cell_type": "code",
   "execution_count": 32,
   "metadata": {},
   "outputs": [
    {
     "name": "stdout",
     "output_type": "stream",
     "text": [
      "no uncertainty: tensor(-0.)\n",
      "coin toss: tensor(1.)\n",
      "die roll: tensor(2.5850)\n",
      "cardinal directions: tensor(3.)\n"
     ]
    }
   ],
   "source": [
    "def entropy(nface):\n",
    "    p = torch.ones(nface) / nface\n",
    "    return -(p * p.log2()).sum()\n",
    "\n",
    "print('no uncertainty:', entropy(1))\n",
    "print('coin toss:', entropy(2))\n",
    "print('die roll:', entropy(6))\n",
    "print('cardinal directions:', entropy(8))"
   ]
  },
  {
   "cell_type": "markdown",
   "metadata": {},
   "source": [
    "### Cross-Entropy (bits)\n",
    "$$\n",
    "H_{2}(p,q) = -\\sum_{i=1}^{n}p(x_{i})\\log_2{q(x_{i})}\n",
    "$$\n",
    "true distribution: $p$ \\\n",
    "estimated distribution: $q$"
   ]
  },
  {
   "cell_type": "code",
   "execution_count": 33,
   "metadata": {},
   "outputs": [
    {
     "data": {
      "text/plain": [
       "tensor(0.4375)"
      ]
     },
     "execution_count": 33,
     "metadata": {},
     "output_type": "execute_result"
    }
   ],
   "source": [
    "crossentropy = nn.CrossEntropyLoss()\n",
    "y_hat = torch.tensor([.8, .2])\n",
    "y = torch.tensor([1., 0.])\n",
    "crossentropy(y_hat, y)"
   ]
  },
  {
   "cell_type": "code",
   "execution_count": 26,
   "metadata": {},
   "outputs": [
    {
     "data": {
      "image/png": "[encoded data removed]",
      "text/plain": [
       "<Figure size 432x288 with 1 Axes>"
      ]
     },
     "metadata": {
      "needs_background": "light"
     },
     "output_type": "display_data"
    },
    {
     "data": {
      "image/png": "[encoded data removed]",
      "text/plain": [
       "<Figure size 432x288 with 1 Axes>"
      ]
     },
     "metadata": {
      "needs_background": "light"
     },
     "output_type": "display_data"
    }
   ],
   "source": [
    "import torch\n",
    "import matplotlib.pyplot as plt\n",
    "\n",
    "x = torch.linspace(-2, 4, 601)\n",
    "y = x / (1-x)\n",
    "plt.plot(x,y)\n",
    "plt.axvline(0, linewidth=1, c='k')\n",
    "plt.axhline(0, linewidth=1, c='k')\n",
    "plt.axis('square')\n",
    "plt.xlim(-2, 4)\n",
    "plt.ylim(-3, 3)\n",
    "plt.show()\n",
    "\n",
    "y = (x/(1-x)).log()\n",
    "plt.plot(x,y)\n",
    "plt.axvline(0, linewidth=1, c='k')\n",
    "plt.axhline(0, linewidth=1, c='k')\n",
    "plt.axis('square')\n",
    "plt.xlim(-2, 4)\n",
    "plt.ylim(-3, 3)\n",
    "plt.show()"
   ]
  },
  {
   "cell_type": "code",
   "execution_count": null,
   "metadata": {},
   "outputs": [],
   "source": []
  }
 ],
 "metadata": {
  "kernelspec": {
   "display_name": "Python 3.9.12 64-bit ('base')",
   "language": "python",
   "name": "python3"
  },
  "language_info": {
   "codemirror_mode": {
    "name": "ipython",
    "version": 3
   },
   "file_extension": ".py",
   "mimetype": "text/x-python",
   "name": "python",
   "nbconvert_exporter": "python",
   "pygments_lexer": "ipython3",
   "version": "3.9.12"
  },
  "orig_nbformat": 4,
  "vscode": {
   "interpreter": {
    "hash": "86a3fa51e47a3c6fa0bce57667ba8eb4910bcc53a8cc182fec4d85739eda0a22"
   }
  }
 },
 "nbformat": 4,
 "nbformat_minor": 2
}
