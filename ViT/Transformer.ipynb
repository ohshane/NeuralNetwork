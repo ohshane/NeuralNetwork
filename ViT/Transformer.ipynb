{
 "cells": [
  {
   "cell_type": "code",
   "execution_count": 25,
   "metadata": {},
   "outputs": [
    {
     "data": {
      "text/plain": [
       "tensor([[2051, 6764, 2066, 2019, 8612]])"
      ]
     },
     "execution_count": 25,
     "metadata": {},
     "output_type": "execute_result"
    }
   ],
   "source": [
    "import torch\n",
    "import torch.nn as nn\n",
    "from transformers import AutoTokenizer, AutoConfig\n",
    "\n",
    "model_ckpt = \"bert-base-uncased\"\n",
    "sentence = \"time files like an arrow\"\n",
    "\n",
    "\n",
    "tokenizer = AutoTokenizer.from_pretrained(model_ckpt)\n",
    "inputs = tokenizer(sentence, return_tensors='pt', add_special_tokens=False)\n",
    "x = inputs.input_ids\n",
    "x"
   ]
  },
  {
   "cell_type": "code",
   "execution_count": 26,
   "metadata": {},
   "outputs": [
    {
     "data": {
      "text/plain": [
       "torch.Size([1, 5, 768])"
      ]
     },
     "execution_count": 26,
     "metadata": {},
     "output_type": "execute_result"
    }
   ],
   "source": [
    "config = AutoConfig.from_pretrained(model_ckpt)\n",
    "embedding = nn.Embedding(config.vocab_size, config.hidden_size)\n",
    "x = embedding(x)\n",
    "x.shape"
   ]
  },
  {
   "cell_type": "code",
   "execution_count": 30,
   "metadata": {},
   "outputs": [],
   "source": [
    "q = k = v = x"
   ]
  },
  {
   "cell_type": "code",
   "execution_count": 36,
   "metadata": {},
   "outputs": [
    {
     "data": {
      "text/plain": [
       "768"
      ]
     },
     "execution_count": 36,
     "metadata": {},
     "output_type": "execute_result"
    }
   ],
   "source": [
    "k.size(-1)"
   ]
  },
  {
   "cell_type": "code",
   "execution_count": 44,
   "metadata": {},
   "outputs": [
    {
     "data": {
      "text/plain": [
       "tensor([[[27.3534,  0.1775, -0.3274, -0.2986,  0.4045],\n",
       "         [ 0.1775, 26.5437,  0.6858, -0.5510, -1.6550],\n",
       "         [-0.3274,  0.6858, 27.2804,  1.5167, -0.2225],\n",
       "         [-0.2986, -0.5510,  1.5167, 27.7590,  1.3069],\n",
       "         [ 0.4045, -1.6550, -0.2225,  1.3069, 27.3051]]],\n",
       "       grad_fn=<DivBackward0>)"
      ]
     },
     "execution_count": 44,
     "metadata": {},
     "output_type": "execute_result"
    }
   ],
   "source": [
    "import math\n",
    "\n",
    "scores = (q @ k.transpose(1,2)) / math.sqrt(k.size(-1))\n",
    "scores"
   ]
  },
  {
   "cell_type": "code",
   "execution_count": 47,
   "metadata": {},
   "outputs": [
    {
     "data": {
      "text/plain": [
       "<matplotlib.image.AxesImage at 0x2cc37e6a0>"
      ]
     },
     "execution_count": 47,
     "metadata": {},
     "output_type": "execute_result"
    },
    {
     "data": {
      "image/png": "[encoded data removed]",
      "text/plain": [
       "<Figure size 432x288 with 1 Axes>"
      ]
     },
     "metadata": {
      "needs_background": "light"
     },
     "output_type": "display_data"
    }
   ],
   "source": [
    "import matplotlib.pyplot as plt\n",
    "plt.imshow(scores[0].detach())"
   ]
  },
  {
   "cell_type": "code",
   "execution_count": 85,
   "metadata": {},
   "outputs": [
    {
     "data": {
      "text/plain": [
       "tensor([[[1.0000e+00, 1.5764e-12, 9.5151e-13, 9.7928e-13, 1.9782e-12],\n",
       "         [3.5426e-12, 1.0000e+00, 5.8894e-12, 1.7098e-12, 5.6684e-13],\n",
       "         [1.0235e-12, 2.8190e-12, 1.0000e+00, 6.4708e-12, 1.1367e-12],\n",
       "         [6.5275e-13, 5.0716e-13, 4.0099e-12, 1.0000e+00, 3.2509e-12],\n",
       "         [2.0761e-12, 2.6472e-13, 1.1090e-12, 5.1184e-12, 1.0000e+00]]],\n",
       "       grad_fn=<SoftmaxBackward0>)"
      ]
     },
     "execution_count": 85,
     "metadata": {},
     "output_type": "execute_result"
    }
   ],
   "source": [
    "import torch.nn.functional as F\n",
    "F.softmax(scores, dim=-1)"
   ]
  },
  {
   "cell_type": "code",
   "execution_count": 68,
   "metadata": {},
   "outputs": [
    {
     "data": {
      "image/png": "[encoded data removed]",
      "text/plain": [
       "<Figure size 432x288 with 1 Axes>"
      ]
     },
     "metadata": {
      "needs_background": "light"
     },
     "output_type": "display_data"
    }
   ],
   "source": [
    "x = torch.FloatTensor([[2, 1],\n",
    "                       [3, 2],\n",
    "                       [1, 2],])\n",
    "\n",
    "plt.scatter(*x.T)\n",
    "plt.axis('square')\n",
    "plt.xlim(0,5)\n",
    "plt.ylim(0,5)\n",
    "for i in range(10):\n",
    "    plt.axvline(i, c='k', alpha=.3, lw=1)\n",
    "    plt.axhline(i, c='k', alpha=.3, lw=1)"
   ]
  },
  {
   "cell_type": "code",
   "execution_count": 87,
   "metadata": {},
   "outputs": [
    {
     "data": {
      "text/plain": [
       "tensor([[3.5355, 5.6569, 2.8284],\n",
       "        [5.6569, 9.1924, 4.9497],\n",
       "        [2.8284, 4.9497, 3.5355]])"
      ]
     },
     "execution_count": 87,
     "metadata": {},
     "output_type": "execute_result"
    }
   ],
   "source": [
    " "
   ]
  },
  {
   "cell_type": "code",
   "execution_count": null,
   "metadata": {},
   "outputs": [],
   "source": []
  }
 ],
 "metadata": {
  "kernelspec": {
   "display_name": "base",
   "language": "python",
   "name": "python3"
  },
  "language_info": {
   "codemirror_mode": {
    "name": "ipython",
    "version": 3
   },
   "file_extension": ".py",
   "mimetype": "text/x-python",
   "name": "python",
   "nbconvert_exporter": "python",
   "pygments_lexer": "ipython3",
   "version": "3.9.12"
  },
  "orig_nbformat": 4
 },
 "nbformat": 4,
 "nbformat_minor": 2
}
