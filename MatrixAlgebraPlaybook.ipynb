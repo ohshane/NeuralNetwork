{
 "cells": [
  {
   "cell_type": "markdown",
   "metadata": {},
   "source": [
    "matrixalgebra-playbook\n",
    "\n",
    "- https://youtube.com/playlist?list=PLKtLBdGREmMkHa-5ApBRuW-Y7geUEeA7q\n",
    "- https://en.wikipedia.org/wiki/Covariance_matrix"
   ]
  },
  {
   "cell_type": "markdown",
   "metadata": {},
   "source": [
    "youtube notation: $\\mathbf X = (X_1, \\cdots, X_m)$ \\\n",
    "wikipedia notation: $\\mathbf X = (X_1, \\cdots, X_m)^\\mathsf{T}$\n",
    "\n",
    "RVs ($X$) are column vectors."
   ]
  },
  {
   "cell_type": "markdown",
   "metadata": {},
   "source": [
    "#### Chapter 01."
   ]
  },
  {
   "cell_type": "markdown",
   "metadata": {},
   "source": [
    "다음은 6명의 학생들에 대한 과목별 성적 데이터이다. 각 과목의 성적을 합산하여 성적을 계산하고자 한다.\n",
    "\n",
    "$$\n",
    "\\begin{align*}\n",
    "& \\text{ 표 2.1: 기말고사 성적표 } \\\\\n",
    "& \\begin{array}{c}\n",
    "\\hline \\hline\n",
    "& \\text{ 국어 } & \\text{ 영어 } & \\text{ 수학 } & \\text{ 과학 } \\\\\n",
    "\\hline\n",
    "\\text{ 학생1 } & 5 & 1 & 2 & 7 \\\\\n",
    "\\text{ 학생2 } & 9 & 1 & 3 & 9 \\\\\n",
    "\\text{ 학생3 } & 8 & 1 & 4 & 2 \\\\\n",
    "\\text{ 학생4 } & 3 & 1 & 5 & 6 \\\\\n",
    "\\text{ 학생5 } &10 & 5 & 8 & 5 \\\\\n",
    "\\text{ 학생6 } & 2 & 8 & 9 & 9 \\\\\n",
    "\\hline\n",
    "\\end{array}_{n \\times m}\n",
    "\\end{align*}\n",
    "$$\n",
    "\n",
    "하지만 이번 기말고사에서는 상대적으로 국어 시험이 영어 시험보다 어렵게 출제되어, 국어 시험 성적에 대한 가중치를 30%, 영어 성적에는 20%, 나머지는 25% 가중치를 부여하여 계산하고자 한다."
   ]
  },
  {
   "cell_type": "markdown",
   "metadata": {},
   "source": [
    "Data matrix (random vector) $\\mathbf X$\n",
    "- samples : $(\\mathbf x_1 \\cdots \\mathbf x_n)$\n",
    "- RVs : $(X_1 \\cdots X_m)$\n",
    "\n",
    "$$\n",
    "\\mathbf X =\n",
    "\\begin{bmatrix}\n",
    "\\text{---} & \\mathbf{x}_1^\\mathsf{T} & \\text{---} \\\\\n",
    "& \\vdots & \\\\\n",
    "\\text{---} & \\mathbf{x}_n^\\mathsf{T} & \\text{---} \\\\\n",
    "\\end{bmatrix} =\n",
    "\n",
    "\\begin{bmatrix}\n",
    "\\vert & & \\vert \\\\\n",
    "X_1 & \\cdots & X_m \\\\\n",
    "\\vert & & \\vert \\\\\n",
    "\\end{bmatrix} =\n",
    "\n",
    "\\begin{bmatrix}\n",
    " 5 & 1 & 2 & 7 \\\\\n",
    " 9 & 1 & 3 & 9 \\\\\n",
    " 8 & 1 & 4 & 2 \\\\\n",
    " 3 & 1 & 5 & 6 \\\\\n",
    "10 & 5 & 8 & 5 \\\\\n",
    " 2 & 8 & 9 & 9 \\\\\n",
    "\\end{bmatrix},\n",
    "\\quad\n",
    "\n",
    "\\beta =\n",
    "\\begin{bmatrix}\n",
    "0.3 \\\\\n",
    "0.2 \\\\\n",
    "0.25 \\\\\n",
    "0.25 \\\\\n",
    "\\end{bmatrix} \\\\[20pt]\n",
    "\n",
    "\\therefore \\mathbf X \\beta\n",
    "$$"
   ]
  },
  {
   "cell_type": "markdown",
   "metadata": {},
   "source": [
    "#### Chapter 02."
   ]
  },
  {
   "cell_type": "markdown",
   "metadata": {},
   "source": [
    "<span style=\"border: solid 1px; padding: 4px;\">Def.</span> Identity Matrix\n",
    "\n",
    "$$\n",
    "AI_n = I_nA = A\n",
    "$$"
   ]
  },
  {
   "cell_type": "markdown",
   "metadata": {},
   "source": [
    "<span style=\"border: solid 1px; padding: 4px;\">Prop.</span> Diagonal Matrix\n",
    "\n",
    "Communitivity\n",
    "\n",
    "$$\n",
    "AB = BA \\\\\n",
    "$$"
   ]
  },
  {
   "cell_type": "markdown",
   "metadata": {},
   "source": [
    "<span style=\"border: solid 1px; padding: 4px;\">Def.</span> Idempotent Matrix (멱등행렬)\n",
    "\n",
    "$A$ must necessarily be a square matrix.\n",
    "\n",
    "$$\n",
    "A^2 = A\n",
    "$$\n",
    "\n",
    "e.g.\n",
    "$$\n",
    "\\begin{bmatrix}\n",
    "1 & 1 \\\\\n",
    "0 & 0 \\\\\n",
    "\\end{bmatrix}\n",
    "\\begin{bmatrix}\n",
    "1 & 1 \\\\\n",
    "0 & 0 \\\\\n",
    "\\end{bmatrix}\n",
    "=\n",
    "\\begin{bmatrix}\n",
    "1 & 1 \\\\\n",
    "0 & 0 \\\\\n",
    "\\end{bmatrix}\n",
    "$$"
   ]
  },
  {
   "cell_type": "markdown",
   "metadata": {},
   "source": [
    "<span style=\"border: solid 1px; padding: 4px;\">Prop.</span> Idempotent Matrix\n",
    "\n",
    "If $A$ is idempotent, $I - A$ is also idempotent.\n",
    "\n",
    "$$\n",
    "\\begin{align*}\n",
    "(I - A)(I - A)\n",
    "&= I^2 - AI - IA + A^2 \\\\\n",
    "&= I - A - A + A \\\\\n",
    "&= I - A\n",
    "\\end{align*}\n",
    "$$"
   ]
  },
  {
   "cell_type": "markdown",
   "metadata": {},
   "source": [
    "#### Chapter 03."
   ]
  },
  {
   "cell_type": "markdown",
   "metadata": {},
   "source": [
    "<span style=\"border: solid 1px; padding: 4px;\">Def.</span> Matrix of Ones (all-ones matrix) : PSD\n",
    "\n",
    "<span style=\"border: solid 1px; padding: 4px;\">Def.</span> Vector of ones (all-ones vector)\n",
    "\n",
    "$$\n",
    "J_n =\n",
    "\\begin{bmatrix}\n",
    "1 & \\cdots & 1 \\\\\n",
    "\\vdots & \\ddots & \\vdots \\\\\n",
    "1 & \\cdots & 1 \\\\\n",
    "\\end{bmatrix}_{n \\times n}\n",
    "\n",
    "\\mathbf{1}_n =\n",
    "\\begin{bmatrix}\n",
    "1 \\\\ \\vdots \\\\ 1\n",
    "\\end{bmatrix}_{n \\times 1}\n",
    "$$\n",
    "\n",
    "<span style=\"border: solid 1px; padding: 4px;\">Prop.</span> Matrix of Ones (all-ones matrix)\n",
    "\n",
    "$$\n",
    "J_{m,n} = \\mathbf{1}_m \\mathbf{1}_n^{\\mathsf{T}}\n",
    "$$"
   ]
  },
  {
   "cell_type": "markdown",
   "metadata": {},
   "source": [
    "Averaging elements of a vector ($\\bar{x}$)\n",
    "\n",
    "$$\n",
    "\\bar{x} = \\dfrac{1}{n} \\mathbf{1}^\\mathsf{T} \\mathbf x\n",
    "$$"
   ]
  },
  {
   "cell_type": "markdown",
   "metadata": {},
   "source": [
    "Averaging vectors of a matrix ($\\bar{\\mathbf x}$)\n",
    "\n",
    "$$\n",
    "\\bar{\\mathbf x} = \\dfrac{1}{n} \\mathbf X^\\mathsf{T} \\mathbf{1}\n",
    "$$"
   ]
  },
  {
   "cell_type": "markdown",
   "metadata": {},
   "source": [
    "#### Chapter 04."
   ]
  },
  {
   "cell_type": "markdown",
   "metadata": {},
   "source": [
    "Centered matrix ($\\tilde{\\mathbf X} = \\mathrm{E}[\\mathbf X]$)\n",
    "\n",
    "$$\n",
    "\\begin{align*}\n",
    "\\tilde{\\mathbf X}\n",
    "&= \\mathbf X - \\mathbf{1} \\bar{\\mathbf x}^\\mathsf{T} \\\\\n",
    "&= \\mathbf X - \\mathbf{1} \\left( \\dfrac{1}{n} \\mathbf{X}^\\mathsf{T} \\mathbf{1} \\right)^\\mathsf{T} \\\\\n",
    "&= \\mathbf X - \\dfrac{1}{n} \\mathbf{1} \\mathbf{1}^\\mathsf{T} \\mathbf{X} \\\\\n",
    "&= \\left( I - \\dfrac{1}{n}J \\right) \\mathbf X \\\\\n",
    "&= C \\mathbf X\n",
    "\\end{align*}\n",
    "$$"
   ]
  },
  {
   "cell_type": "markdown",
   "metadata": {},
   "source": [
    "Centering matrix ($C$)\n",
    "\n",
    "$$\n",
    "\\begin{align*}\n",
    "C &= I_n - \\dfrac{1}{n}J_n \\\\\n",
    "&=\n",
    "\\begin{bmatrix}\n",
    "\\frac{n-1}{n} & -\\frac{1}{n} & \\cdots & -\\frac{1}{n} \\\\[10pt]\n",
    "-\\frac{1}{n} & \\frac{n-1}{n} & & -\\frac{1}{n} \\\\[10pt]\n",
    "\\vdots & & \\ddots & \\vdots \\\\[10pt]\n",
    "-\\frac{1}{n} & -\\frac{1}{n} & \\cdots & \\frac{n-1}{n}\n",
    "\\end{bmatrix}\n",
    "\\end{align*}\n",
    "$$\n",
    "\n",
    "$C$ does the same thing as $\\mathbf X - \\mathrm{E}[\\mathbf X]$."
   ]
  },
  {
   "cell_type": "code",
   "execution_count": 1,
   "metadata": {},
   "outputs": [
    {
     "data": {
      "image/png": "[encoded data removed]",
      "text/plain": [
       "<Figure size 900x300 with 3 Axes>"
      ]
     },
     "metadata": {},
     "output_type": "display_data"
    }
   ],
   "source": [
    "import numpy as np\n",
    "import matplotlib.pyplot as plt\n",
    "\n",
    "def seeded(f):\n",
    "    def wrapper(*args, **kwargs):\n",
    "        np.random.seed(42)\n",
    "        result = f(*args, **kwargs)\n",
    "        np.random.seed(None)\n",
    "        return result\n",
    "    return wrapper\n",
    "\n",
    "@seeded\n",
    "def make_X(samples):\n",
    "    return np.random.randn(samples,2)@np.array([[3,1],[1,2]]) + np.array([4, 8])\n",
    "\n",
    "n = 10\n",
    "X = make_X(samples=n)\n",
    "C = np.eye(n) - np.ones((n,n)) / n\n",
    "X_tilde = C @ X\n",
    "\n",
    "fig, axs = plt.subplots(1,3,figsize=(9,3))\n",
    "axs[0].set_title(r'$X$')\n",
    "axs[0].scatter(*X.T)\n",
    "axs[0].axvline(c='k')\n",
    "axs[0].axhline(c='k')\n",
    "axs[0].axis(\"equal\")\n",
    "\n",
    "axs[1].set_title(r'$CX$')\n",
    "axs[1].scatter(*X_tilde.T)\n",
    "axs[1].axvline(c='k')\n",
    "axs[1].axhline(c='k')\n",
    "axs[1].axis(\"equal\")\n",
    "\n",
    "axs[2].set_title(r'$C$')\n",
    "axs[2].imshow(C)\n",
    "plt.show()"
   ]
  },
  {
   "cell_type": "markdown",
   "metadata": {},
   "source": [
    "#### Chapter 05."
   ]
  },
  {
   "cell_type": "markdown",
   "metadata": {},
   "source": [
    "<span style=\"border: solid 1px; padding: 4px;\">Prop.</span> Centering Matirx ($C$)\n",
    "\n",
    "- $C$ is idempotent. $\\implies$ $CC=C$ (also $C^n = C$) \n",
    "- $C^\\mathsf{T} = C$\n",
    "\n",
    "$$\n",
    "\\begin{align*}\n",
    "\\left(I - \\dfrac{1}{n}J \\right)\\left(I - \\dfrac{1}{n}J \\right)\n",
    "&= I^2 - \\dfrac{1}{n}JI - \\dfrac{1}{n}IJ + \\dfrac{1}{n^2}J^2 \\\\[10pt]\n",
    "&= I - \\dfrac{2}{n}J + \\dfrac{1}{n^2}J^2 \\\\[10pt]\n",
    "&= I - \\dfrac{2}{n}J + \\dfrac{1}{n^2}nJ \\\\[10pt]\n",
    "&= I - \\dfrac{1}{n}J\n",
    "\\end{align*}\n",
    "$$"
   ]
  },
  {
   "cell_type": "markdown",
   "metadata": {},
   "source": [
    "#### Chapter 06."
   ]
  },
  {
   "cell_type": "markdown",
   "metadata": {},
   "source": [
    "Sample variance\n",
    "\n",
    "$$\n",
    "s^2 = s_{xx} = \\dfrac{1}{n-1} \\sum\\limits_{i=1}^{n}(x_i - \\bar{x})^2 \\\\\n",
    "$$"
   ]
  },
  {
   "cell_type": "markdown",
   "metadata": {},
   "source": [
    "$$\n",
    "\\text{cov}(X, X) = \\mathrm{K}_{XX} =\n",
    "\\begin{bmatrix}\n",
    "s_{xx}\n",
    "\\end{bmatrix} =\n",
    " \\dfrac{1}{n-1} \\sum\\limits_{i=1}^{n}(x_i - \\bar{x})^2 \\\\\n",
    "$$"
   ]
  },
  {
   "cell_type": "markdown",
   "metadata": {},
   "source": [
    "Sample covariance\n",
    "\n",
    "$$\n",
    "S = \\text{cov}(\\mathbf X, \\mathbf X) = \\mathrm{K}_{\\mathbf X \\mathbf X} =\n",
    "\\begin{bmatrix}\n",
    "s_{x_1x_1} & \\cdots & s_{x_1x_m} \\\\\n",
    "\\vdots & \\ddots & \\vdots \\\\\n",
    "s_{x_mx_1} & \\cdots & s_{x_mx_m} \\\\\n",
    "\\end{bmatrix}\n",
    "= \\dfrac{1}{n-1} \\sum\\limits_{i=1}^{n} (\\mathbf x_i - \\bar{\\mathbf x}) (\\mathbf x_i - \\bar{\\mathbf x})^\\mathsf{T} = \\dfrac{1}{n-1} \\tilde{\\mathbf{X}}^\\mathsf{T} \\tilde{\\mathbf{X}}\n",
    "$$\n"
   ]
  },
  {
   "cell_type": "markdown",
   "metadata": {},
   "source": [
    "$$\n",
    "\\begin{align*}\n",
    "\n",
    "\\dfrac{1}{n-1} \\tilde{\\mathbf{X}}^\\mathsf{T} \\tilde{\\mathbf{X}}\n",
    "&=\n",
    "\\dfrac{1}{n-1}\n",
    "\\begin{bmatrix}\n",
    "\\vert & & \\vert \\\\\n",
    "\\tilde{\\mathbf x}_1 & \\cdots & \\tilde{\\mathbf x}_n \\\\\n",
    "\\vert & & \\vert \\\\\n",
    "\\end{bmatrix}\n",
    "\n",
    "\\begin{bmatrix}\n",
    "\\text{---} & \\tilde{\\mathbf x}_1^\\mathsf{T} & \\text{---} \\\\\n",
    "& \\vdots & \\\\\n",
    "\\text{---} & \\tilde{\\mathbf x}_n^\\mathsf{T} & \\text{---} \\\\\n",
    "\\end{bmatrix} \\\\\n",
    "&= \n",
    "\\dfrac{1}{n-1}\n",
    "\\begin{bmatrix}\n",
    "\\text{---} & X_1^\\mathsf{T} & \\text{---} \\\\\n",
    "& \\vdots & \\\\\n",
    "\\text{---} & X_m^\\mathsf{T} & \\text{---} \\\\\n",
    "\\end{bmatrix}\n",
    "\n",
    "\\begin{bmatrix}\n",
    "\\vert & & \\vert \\\\\n",
    "X_1 & \\cdots & X_m \\\\\n",
    "\\vert & & \\vert \\\\\n",
    "\\end{bmatrix}\n",
    "\\end{align*}\n",
    "$$"
   ]
  },
  {
   "cell_type": "markdown",
   "metadata": {},
   "source": [
    "$$\n",
    "\\begin{align*}\n",
    "\\mathrm{K}_{\\mathbf X \\mathbf X} =\n",
    "\\dfrac{1}{n-1} \\tilde{\\mathbf{X}}^\\mathsf{T} \\tilde{\\mathbf{X}}\n",
    "&=\n",
    "\\dfrac{1}{n-1} (C \\mathbf{X})^\\mathsf{T} (C \\mathbf{X}) \\\\\n",
    "&=\n",
    "\\dfrac{1}{n-1} \\mathbf{X}^\\mathsf{T} C^\\mathsf{T} C \\mathbf{X} \\\\\n",
    "&=\n",
    "\\dfrac{1}{n-1} \\mathbf{X}^\\mathsf{T} C C \\mathbf{X} \\qquad \\cdots \\text{symmetric} \\\\\n",
    "&=\n",
    "\\dfrac{1}{n-1} \\mathbf{X}^\\mathsf{T} C \\mathbf{X} \\qquad \\cdots \\text{idempotent} \\\\\n",
    "\\end{align*}\n",
    "$$"
   ]
  },
  {
   "cell_type": "markdown",
   "metadata": {},
   "source": [
    "#### Chapter 07."
   ]
  },
  {
   "cell_type": "markdown",
   "metadata": {},
   "source": [
    "The relation between the auto-covariate matrix $\\mathrm{K}_{\\mathbf X \\mathbf X}$ and  the autocorrelation matrix $\\mathrm{R}_{\\mathbf X \\mathbf X}$.\n",
    "\n",
    "https://en.wikipedia.org/wiki/Covariance_matrix"
   ]
  },
  {
   "cell_type": "code",
   "execution_count": 2,
   "metadata": {},
   "outputs": [
    {
     "name": "stdout",
     "output_type": "stream",
     "text": [
      "---------K----------\n",
      "[[9.36 4.85]\n",
      " [4.85 5.05]]\n",
      "---------R----------\n",
      "[[1.   0.71]\n",
      " [0.71 1.  ]]\n"
     ]
    }
   ],
   "source": [
    "@seeded\n",
    "def make_X(samples):\n",
    "    return np.random.randn(samples,2)@np.array([[3,1],[1,2]]) + np.array([4, 8])\n",
    "\n",
    "n = 1000\n",
    "X = make_X(n)\n",
    "\n",
    "X_tilde = X - X.mean(0)\n",
    "K = cov = 1/n * (X_tilde.T @ X_tilde)\n",
    "\n",
    "R = corr = np.diag(K.diagonal()**(-1/2)) @ K @ np.diag(K.diagonal()**(-1/2))\n",
    "\n",
    "with np.printoptions(precision=2, suppress=True):\n",
    "    print(f\"{'K':-^20}\")\n",
    "    print(K)\n",
    "    print(f\"{'R':-^20}\")\n",
    "    print(R)"
   ]
  },
  {
   "cell_type": "markdown",
   "metadata": {},
   "source": [
    "$$\n",
    "\\begin{align*}\n",
    "\n",
    "\\mathrm{K}_{\\mathbf X \\mathbf X}\n",
    "&=\n",
    "\\mathrm{E}[ (\\mathbf X - \\mathrm{E}[\\mathbf X]) (\\mathbf X - \\mathrm{E}[\\mathbf X])^\\mathsf{T} ] \\\\[10px]\n",
    "\n",
    "&=\n",
    "\\mathrm{E}\n",
    "\\left[\n",
    "\\begin{pmatrix}\n",
    "\\text{---} & \\tilde X_1^\\mathsf{T} & \\text{---} \\\\\n",
    "& \\vdots & \\\\\n",
    "\\text{---} & \\tilde X_m^\\mathsf{T} & \\text{---} \\\\\n",
    "\\end{pmatrix}\n",
    "\\begin{pmatrix}\n",
    "\\vert & & \\vert \\\\\n",
    "\\tilde X_1 & \\cdots & \\tilde X_m \\\\\n",
    "\\vert & & \\vert \\\\\n",
    "\\end{pmatrix}\n",
    "\\right] \\\\[10px]\n",
    "\n",
    "&=\n",
    "\\mathrm{E}\n",
    "\\left[\n",
    "\\begin{pmatrix}\n",
    "\\tilde X_1^\\mathsf{T} \\tilde X_1 & \\cdots & \\tilde X_1^\\mathsf{T} \\tilde X_m \\\\\n",
    "\\vdots & \\ddots & \\vdots \\\\\n",
    "\\tilde X_m^\\mathsf{T} \\tilde X_1 & \\cdots & \\tilde X_m^\\mathsf{T} \\tilde X_m \\\\\n",
    "\\end{pmatrix}\n",
    "\\right] \\\\[10pt]\n",
    "\n",
    "&=\n",
    "\\dfrac{1}{n}\n",
    "\\begin{pmatrix}\n",
    "\\tilde X_1^\\mathsf{T} \\tilde X_1 & \\cdots & \\tilde X_1^\\mathsf{T} \\tilde X_m \\\\\n",
    "\\vdots & \\ddots & \\vdots \\\\\n",
    "\\tilde X_m^\\mathsf{T} \\tilde X_1 & \\cdots & \\tilde X_m^\\mathsf{T} \\tilde X_m \\\\\n",
    "\\end{pmatrix} \\\\[10px]\n",
    "\n",
    "\\end{align*}\n",
    "$$"
   ]
  },
  {
   "cell_type": "markdown",
   "metadata": {},
   "source": [
    "$$\n",
    "\\begin{align*}\n",
    "\n",
    "\\mathrm{K}_{\\mathbf X \\mathbf X}\n",
    "&=\n",
    "\\mathrm{E}[ (\\mathbf X - \\mathrm{E}[\\mathbf X]) (\\mathbf X - \\mathrm{E}[\\mathbf X])^\\mathsf{T} ] \\\\[10px]\n",
    "\n",
    "&=\n",
    "\\mathrm{E}[\\mathbf X \\mathbf X^\\mathsf{T}] - \\mathrm{E}[\\mathbf X] \\mathrm{E}[X]^\\mathsf{T} \\\\\n",
    "\n",
    "&=\n",
    "\\mathrm{R}_{\\mathbf X \\mathbf X} - \\mathrm{E}[\\mathbf X] \\mathrm{E}[X]^\\mathsf{T} \\\\\n",
    "\n",
    "\\end{align*}\n",
    "$$"
   ]
  },
  {
   "cell_type": "markdown",
   "metadata": {},
   "source": [
    "$$\n",
    "\\begin{align*}\n",
    "\n",
    "\\mathrm{R}_{\\mathbf X \\mathbf X}\n",
    "&=\n",
    "\\begin{bmatrix}\n",
    "1 & \\cdots & \\rho_{1m} \\\\[10pt]\n",
    "\\vdots & \\ddots & \\vdots \\\\[10pt]\n",
    "\\rho_{m1} & \\cdots & 1 \\\\\n",
    "\\end{bmatrix} \\\\[30pt]\n",
    "\n",
    "&=\n",
    "\\begin{bmatrix}\n",
    "\\sigma_{1}^{-1} & & 0 \\\\[10pt]\n",
    "& \\ddots & \\\\[10pt]\n",
    "0 & & \\sigma_{m}^{-1} \\\\\n",
    "\\end{bmatrix}\n",
    "\n",
    "\\begin{bmatrix}\n",
    "& & \\\\[10pt]\n",
    "& \\mathrm{K}_{\\mathbf X \\mathbf X} & \\\\[10pt]\n",
    "& & \\\\\n",
    "\\end{bmatrix}\n",
    "\n",
    "\\begin{bmatrix}\n",
    "\\sigma_{1}^{-1} & & 0 \\\\[10pt]\n",
    "& \\ddots & \\\\[10pt]\n",
    "0 & & \\sigma_{m}^{-1} \\\\\n",
    "\\end{bmatrix} \\\\[30pt]\n",
    "\n",
    "&=\n",
    "\\begin{bmatrix}\n",
    "\\sigma_{1}^{-1} & & 0 \\\\[10pt]\n",
    "& \\ddots & \\\\[10pt]\n",
    "0 & & \\sigma_{m}^{-1} \\\\\n",
    "\\end{bmatrix}\n",
    "\n",
    "\\begin{bmatrix}\n",
    "\\sigma_{1}^2 & \\cdots & \\rho_{1m} \\sigma_{1} \\sigma_{m} \\\\[10pt]\n",
    "\\vdots & \\ddots & \\vdots \\\\[10pt]\n",
    "\\rho_{m1} \\sigma_{m} \\sigma_{1} & \\cdots & \\sigma_{m}^2 \\\\\n",
    "\\end{bmatrix}\n",
    "\n",
    "\\begin{bmatrix}\n",
    "\\sigma_{1}^{-1} & & 0 \\\\[10pt]\n",
    "& \\ddots & \\\\[10pt]\n",
    "0 & & \\sigma_{m}^{-1} \\\\\n",
    "\\end{bmatrix}\n",
    "\n",
    "\\end{align*}\n",
    "$$"
   ]
  },
  {
   "cell_type": "markdown",
   "metadata": {},
   "source": [
    "#### Chapter 08."
   ]
  },
  {
   "cell_type": "markdown",
   "metadata": {},
   "source": [
    "<span style=\"border: solid 1px; padding: 4px;\">Def.</span> Trace\n",
    "\n",
    "$$\n",
    "\\mathrm{tr}(A) = \\sum\\limits_{i=1}^{n} a_{ii}\n",
    "$$"
   ]
  },
  {
   "cell_type": "markdown",
   "metadata": {},
   "source": [
    "<span style=\"border: solid 1px; padding: 4px;\">Prop.</span> Trace\n",
    "\n",
    "$$\n",
    "\\begin{align*}\n",
    "\\mathrm{tr}(k A) &= k \\ \\mathrm{tr}(A) \\\\\n",
    "\\mathrm{tr}(A + B) &= \\mathrm{tr}(A) + \\mathrm{tr}(B) \\\\[10pt]\n",
    "\\mathrm{tr}(AB) &= \\mathrm{tr}(BA) \\\\\n",
    "\\mathrm{tr}(ABC) &= \\mathrm{tr}(BCA) = \\mathrm{tr}(CAB)\n",
    "\\end{align*}\n",
    "$$"
   ]
  },
  {
   "cell_type": "markdown",
   "metadata": {},
   "source": [
    "#### Chapter 09. ~ 11."
   ]
  },
  {
   "cell_type": "markdown",
   "metadata": {},
   "source": [
    "<span style=\"border: solid 1px; padding: 4px;\">Def.</span> Inverse\n",
    "\n",
    "$$\n",
    "\\begin{align*}\n",
    "AA^{-1} = A^{-1}A = I\n",
    "\\end{align*}\n",
    "$$"
   ]
  },
  {
   "cell_type": "markdown",
   "metadata": {},
   "source": [
    "<span style=\"border: solid 1px; padding: 4px;\">Prop.</span> Inverse\n",
    "\n",
    "- $M$ : minor (scalar; $\\mathrm{det}$ of a smaller matrix)\n",
    "- $C$ : cofactor (scalar; minor with sign)\n",
    "  - $C = (-1)^{i+j}M_{ij}$\n",
    "- $\\mathbf C$ : cofactor matrix (matrix)\n",
    "  - $\\mathbf C^\\mathsf{T} = \\mathrm{adj}(\\mathbf A)$\n",
    "\n",
    "$$\n",
    "\\begin{align*}\n",
    "\\mathbf A^{-1} &= \\dfrac{1}{\\mathrm{det}(\\mathbf A)} \\mathrm{adj}(\\mathbf A) \\\\[20pt]\n",
    "&= \\dfrac{1}{\\mathrm{det}(\\mathbf A)} \\mathbf C^{\\mathsf T} \\\\[20pt]\n",
    "\n",
    "&= \\dfrac{1}{\\mathrm{det}(\\mathbf A)}\n",
    "\\begin{bmatrix}\n",
    "+ M_{11} & - M_{12} & + M_{13} & - M_{14} \\\\[10pt]\n",
    "- M_{21} & + M_{22} & - M_{23} & + M_{24} \\\\[10pt]\n",
    "+ M_{31} & - M_{32} & + M_{33} & - M_{34} \\\\[10pt]\n",
    "- M_{41} & + M_{42} & - M_{43} & + M_{44}\n",
    "\\end{bmatrix}^\\mathsf{T} \\\\[40pt]\n",
    "\n",
    "&= \\dfrac{1}{\\mathrm{det}(\\mathbf A)}\n",
    "\\begin{bmatrix}\n",
    "C_{11} & C_{12} & C_{13} & C_{14} \\\\[10pt]\n",
    "C_{21} & C_{22} & C_{23} & C_{24} \\\\[10pt]\n",
    "C_{31} & C_{32} & C_{33} & C_{34} \\\\[10pt]\n",
    "C_{41} & C_{42} & C_{43} & C_{44}\n",
    "\\end{bmatrix}^\\mathsf{T}\n",
    "\n",
    "\\end{align*}\n",
    "$$"
   ]
  },
  {
   "cell_type": "markdown",
   "metadata": {},
   "source": [
    "<span style=\"border: solid 1px; padding: 4px;\">Prop.</span> Determinant\n",
    "\n",
    "$$\n",
    "\\begin{align*}\n",
    "\\mathrm{det}(\\mathbf A^{\\mathsf T}) &= \\mathrm{det}(\\mathbf A) \\\\\n",
    "\\mathrm{det}(k \\mathbf A) &= k^{n} \\ \\mathrm{det}(\\mathbf A)\n",
    "\\end{align*}\n",
    "$$"
   ]
  },
  {
   "cell_type": "markdown",
   "metadata": {},
   "source": [
    "$$\n",
    "\\begin{align*}\n",
    "\\mathbf{A}^{-1} \\mathbf{A} &= \\mathbf{I} \\\\\n",
    "\\mathrm{det}(\\mathbf{A}^{-1} \\mathbf{A}) &= \\mathrm{det}(\\mathbf{I}) \\\\\n",
    "\\mathrm{det}(\\mathbf{A}^{-1}) \\ \\mathrm{det}(\\mathbf{A}) &= \\mathrm{det}(\\mathbf{I}) \\\\\n",
    "\n",
    "\\mathrm{det}(\\mathbf{A}^{-1}) &= \\dfrac{1}{\\mathrm{det}(\\mathbf A)}\n",
    "\\end{align*}\n",
    "$$"
   ]
  },
  {
   "cell_type": "markdown",
   "metadata": {},
   "source": [
    "#### Chapter 12. ~ 14."
   ]
  },
  {
   "cell_type": "markdown",
   "metadata": {},
   "source": [
    "Quadratic form\n",
    "\n",
    "$q:\\mathbb{R}^n \\to \\mathbb{R}$\n",
    "\n",
    "$$\n",
    "\\begin{align*}\n",
    "q(x) &= ax^2 \\\\\n",
    "q(x_1, x_2) &= ax_1^2 + bx_1x_2 + cx_2^2 \\\\\n",
    "q(\\mathbf x) &= \\mathbf x^{\\mathsf T} \\mathbf A \\mathbf x  \\\\\n",
    "q(\\mathbf x) &= \\mathbf x^{\\mathsf T} \\mathbf A \\mathbf x + \\mathbf x^{\\mathsf T} \\mathbf b + c  \\\\\n",
    "\\end{align*}\n",
    "$$\n",
    "\n",
    "- PD : $\\mathbf A > 0 \\iff \\lambda_{\\min}(\\mathbf A) > 0$\n",
    "- PSD : $\\mathbf A \\geq 0 \\iff \\lambda_{\\min}(\\mathbf A) \\geq 0$\n",
    "- ND : $\\mathbf A < 0 \\iff \\lambda_{\\max}(\\mathbf A) < 0$\n",
    "- NSD : $\\mathbf A \\leq 0 \\iff \\lambda_{\\max}(\\mathbf A) \\leq 0$"
   ]
  },
  {
   "cell_type": "markdown",
   "metadata": {},
   "source": [
    "#### Chapter 15.\n",
    "\n",
    "$$\n",
    "\\begin{align*}\n",
    "\\mathrm{tr}(\\mathbf A) &= \\sum\\limits_{i=1}^{n} \\lambda_i \\\\\n",
    "\\mathrm{det}(\\mathbf A) &= \\prod\\limits_{i=1}^{n} \\lambda_i \\\\\n",
    "\\end{align*}\n",
    "$$"
   ]
  },
  {
   "cell_type": "markdown",
   "metadata": {},
   "source": [
    "#### Chapter 16. ~ 17.\n",
    "\n",
    "<span style=\"border: solid 1px; padding: 4px;\">Def.</span> Linear Independence\n",
    "\n",
    "A set of vectors $\\{ \\mathbf v_1, \\mathbf v_2, \\cdots, \\mathbf v_n \\}$ is linearly independent if the vector equation\n",
    "\n",
    "$$\n",
    "a_1 \\mathbf v_1 + a_2 \\mathbf v_2 + \\cdots + a_n \\mathbf v_n = 0\n",
    "$$\n",
    "\n",
    "has only the trivial solution $a_1 = a_2 = \\cdots = a_n = 0$."
   ]
  },
  {
   "cell_type": "markdown",
   "metadata": {},
   "source": [
    "#### Chapter 17.\n",
    "\n",
    "Gram Matrix ($\\mathbf G$; checking the linear indepencence of a matrix $\\mathbf V$)\n",
    "\n",
    "$$\n",
    "\\begin{align*}\n",
    "\\mathbf V &=\n",
    "\\begin{bmatrix}\n",
    "\\vert & \\vert & & \\vert \\\\\n",
    "\\mathbf v_1 & \\mathbf v_2 & \\cdots & \\mathbf v_n \\\\\n",
    "\\vert & \\vert & & \\vert \\\\\n",
    "\\end{bmatrix} \\\\[20pt]\n",
    "\n",
    "\\mathbf G &= \\mathbf V^{\\mathsf T} \\mathbf V \\qquad \\cdots \\ \\text{relations between } \\mathbf v \\text{ s}.\n",
    "\\end{align*}\n",
    "$$"
   ]
  },
  {
   "cell_type": "markdown",
   "metadata": {},
   "source": [
    "<span style=\"border: solid 1px; padding: 4px;\">Prop.</span> Gram Matrix ($\\mathbf G$)\n",
    "\n",
    "We are checking the rank of $\\mathbf G$.\\\n",
    "e.g. If $l(\\mathbf v) > n$, the matrix $\\mathbf G$ is not full rank. Thus, there are only $n$ eigen values that are positive. Also no inverse ($^{-1}$).\n",
    "\n",
    "- PSD\n",
    "  - $\\mathbf x^{\\mathsf T} \\mathbf G \\mathbf x \\geq 0, \\forall \\mathbf x$\n",
    "    - could be linearly dependent or independent\n",
    "    \n",
    "- PD\n",
    "  - $\\mathbf x^{\\mathsf T} \\mathbf G \\mathbf x > 0, \\forall \\mathbf x \\neq \\mathbf 0$\n",
    "    - linearly independent\n",
    "    - all eigen values are positive ($\\lambda_{\\min}(\\mathbf V) > 0$)"
   ]
  },
  {
   "cell_type": "markdown",
   "metadata": {},
   "source": [
    "Suppose we have a data matrix (random vector) $\\mathbf X = (X_1, \\cdots, X_n)$ \\\n",
    "We can check the independance of each features by calculating the eigen values by decomposing a gram matrix $\\mathbf X^{\\mathsf T} \\mathbf X$."
   ]
  },
  {
   "cell_type": "code",
   "execution_count": 3,
   "metadata": {},
   "outputs": [
    {
     "name": "stdout",
     "output_type": "stream",
     "text": [
      "X.shape = (150, 4)\n",
      "G.shape = (4, 4)\n"
     ]
    },
    {
     "data": {
      "image/png": "[encoded data removed]",
      "text/plain": [
       "<Figure size 400x200 with 1 Axes>"
      ]
     },
     "metadata": {},
     "output_type": "display_data"
    }
   ],
   "source": [
    "import matplotlib.pyplot as plt\n",
    "from sklearn.datasets import load_iris\n",
    "import numpy as np\n",
    "\n",
    "iris = load_iris()\n",
    "X = iris.data\n",
    "print(f\"{X.shape = }\")\n",
    "\n",
    "G = X.T @ X\n",
    "print(f\"{G.shape = }\")\n",
    "\n",
    "\n",
    "plt.figure(figsize=(4,2))\n",
    "plt.title(\"Iris dataset\")\n",
    "plt.barh(\n",
    "    iris.feature_names,\n",
    "    np.linalg.eigvals(G)\n",
    ")\n",
    "plt.xscale(\"log\")\n",
    "plt.xlabel(\"eigvals\")\n",
    "plt.show()"
   ]
  },
  {
   "cell_type": "markdown",
   "metadata": {},
   "source": [
    "#### Chapter 20.\n",
    "\n",
    "Random variable ($X$)\n",
    "\n",
    "$$\n",
    "X =\n",
    "\\begin{pmatrix}\n",
    "x_1 & \\cdots & x_n\n",
    "\\end{pmatrix}, \\quad\n",
    "\n",
    "\\mathrm{E}[X] =\n",
    "\\mu, \\quad\n",
    "\n",
    "\\mathrm{Var}[X] =\n",
    "\\sigma^2\n",
    "$$\n",
    "\n",
    "$$\n",
    "\\begin{align*}\n",
    "\\mathrm{E}[aX+b] &= a\\mathrm{E}[X]+b \\\\\n",
    "\\mathrm{Var}[aX+b] &= a^2 \\mathrm{Var}[X] \\\\\n",
    "\\end{align*}\n",
    "$$\n",
    "\n",
    "Random vector ($\\mathbf X$)\n",
    "\n",
    "$$\n",
    "\\mathbf X =\n",
    "\\begin{pmatrix}\n",
    "X_1 \\\\ X_2\n",
    "\\end{pmatrix}, \\quad\n",
    "\n",
    "\\mathrm{E}[\\mathbf X] =\n",
    "\\begin{pmatrix}\n",
    "\\mu_1 \\\\ \\mu_2\n",
    "\\end{pmatrix}, \\quad\n",
    "\n",
    "\\mathrm{Var}[\\mathbf X] = \\mathbf \\Sigma =\n",
    "\\begin{pmatrix}\n",
    "\\sigma_1^2 & \\rho_{12}\\sigma_1\\sigma_2 \\\\[10pt]\n",
    "\\rho_{21}\\sigma_2\\sigma_1 & \\sigma_2^2 \\\\\n",
    "\\end{pmatrix}\n",
    "$$\n",
    "\n",
    "$$\n",
    "\\begin{align*}\n",
    "\\mathrm{E}[\\mathbf A \\mathbf X + \\mathbf b] &= \\mathbf A_{m \\times n} \\mathrm{E}[\\mathbf X]_{n \\times 1} + \\mathbf b_{m \\times 1} \\\\\n",
    "\\mathrm{Var}[\\mathbf A \\mathbf X + \\mathbf b] &= \\mathbf A \\mathrm{Var}[\\mathbf X] \\mathbf A^{\\mathsf T} \\\\\n",
    "\\end{align*}\n",
    "$$"
   ]
  },
  {
   "cell_type": "markdown",
   "metadata": {},
   "source": [
    "#### Chapter 21.\n",
    "\n",
    "Variacne ($\\sigma^2$ or $\\mathbf \\Sigma$) is PSD."
   ]
  },
  {
   "cell_type": "markdown",
   "metadata": {},
   "source": [
    "A symmetric, diagonally dominant matrix $\\mathbf A$ with real positive diagonal entries is PD.\n",
    "\n",
    "Diagonally dominent matrix : $|a_{ii}| \\geq \\sum\\limits_{j \\neq i}|a_{ij}|$\n",
    "\n",
    "$$\n",
    "\\mathbf A =\n",
    "\\begin{bmatrix}\n",
    " 4 & 3 &-1 & 1 \\\\[5pt]\n",
    " 3 & 8 & 2 & 2 \\\\[5pt]\n",
    "-1 & 2 & 9 & 0 \\\\[5pt]\n",
    " 1 & 2 & 0 & 5 \\\\\n",
    "\\end{bmatrix}, \\quad\n",
    "\\lambda_{\\min}(\\mathbf A) > 0\n",
    "$$"
   ]
  },
  {
   "cell_type": "markdown",
   "metadata": {},
   "source": [
    "<span style=\"border: solid 1px; padding: 4px;\">Def.</span> Cholesky factorization\n",
    "\n",
    "Requirements:\n",
    "- Symmetric\n",
    "- PSD\n",
    "\n",
    "We can think of square rooting the matrix $\\mathbf A$ to $\\mathbf L \\mathbf L^{\\mathsf T}$.\n",
    "\n",
    "$$\n",
    "\\begin{align*}\n",
    "\\mathbf A &= \\mathbf L \\mathbf L^{\\mathsf H} \\quad (\\text{or } \\mathbf L \\mathbf L^{\\mathsf T}) \\\\\n",
    "&=\n",
    "\\begin{bmatrix}\n",
    "\\cdot & & & \\\\\n",
    "\\cdot & \\cdot & & \\\\\n",
    "\\cdot & \\cdot & \\cdot & \\\\\n",
    "\\cdot & \\cdot & \\cdot & \\cdot \\\\\n",
    "\\end{bmatrix}\n",
    "\n",
    "\\begin{bmatrix}\n",
    "\\cdot & \\cdot & \\cdot & \\cdot \\\\\n",
    "& \\cdot & \\cdot & \\cdot \\\\\n",
    "& & \\cdot & \\cdot \\\\\n",
    "& & & \\cdot\\\\\n",
    "\\end{bmatrix}\n",
    "\n",
    "\\end{align*}\n",
    "$$"
   ]
  },
  {
   "cell_type": "markdown",
   "metadata": {},
   "source": [
    "But wait, covariance matrix ($\\mathbf \\Sigma$) is also symmetric and PSD!\n",
    "\n",
    "$\\mathbf \\Sigma = \\mathbf L \\mathbf L^{\\mathsf T}$"
   ]
  },
  {
   "cell_type": "markdown",
   "metadata": {},
   "source": [
    "Creating a MVN $\\mathcal N(\\mathbf \\mu, \\mathbf \\Sigma)$ with MVSN $\\mathcal N(\\mathbf 0, \\mathbf I)$\n",
    "with Cholesky factorization; Chapter 20.\n",
    "\n",
    "$$\n",
    "\\begin{align*}\n",
    "\\mathrm{E}[\\mathbf A \\mathbf X + \\mathbf b] &= \\mathbf A \\mathrm{E}[\\mathbf X] + \\mathbf b \\\\\n",
    "\\mathrm{Var}[\\mathbf A \\mathbf X + \\mathbf b] &= \\mathbf A \\mathrm{Var}[\\mathbf X] \\mathbf A^{\\mathsf T}\n",
    "\\end{align*}\n",
    "$$\n"
   ]
  },
  {
   "cell_type": "markdown",
   "metadata": {},
   "source": [
    "\n",
    "$$\n",
    "\\begin{array}{rll}\n",
    "\\mathbf X \\sim \\mathcal N(\\mathbf 0, \\mathbf I)\n",
    "&\n",
    "\\mathrm{E}[\\mathbf X] = \\mathbf 0\n",
    "&\n",
    "\\mathrm{Var}[\\mathbf X] = \\mathbf I \\\\[20pt]\n",
    "\n",
    "\\mathbf Y \\sim \\mathbf A \\mathbf X + \\mathbf b \\sim \\mathcal N(\\mathbf \\mu, \\mathbf \\Sigma)\n",
    "&\n",
    "\\mathrm{E}[\\mathbf A \\mathbf X + \\mathbf b]\n",
    "&\n",
    "\\mathrm{Var}[\\mathbf A \\mathbf X + \\mathbf b] \\\\[10pt]\n",
    "\n",
    "&\n",
    "\\mathbf A \\mathrm{E}[\\mathbf X] + \\mathbf b\n",
    "&\n",
    "\\mathbf A \\mathrm{Var}[\\mathbf X] \\mathbf A^{\\mathsf T} \\\\[10pt]\n",
    "\n",
    "&\n",
    "\\mathbf A \\mathbf 0 + \\mathbf b\n",
    "&\n",
    "\\mathbf A \\mathbf I \\mathbf A^{\\mathsf T} \\\\[10pt]\n",
    "\n",
    "&\n",
    "\\mathbf b = \\mathbf \\mu\n",
    "&\n",
    "\\mathbf A \\mathbf A^{\\mathsf T} = \\mathbf \\Sigma \\\\[10pt]\n",
    "\n",
    "\\end{array}\n",
    "$$"
   ]
  },
  {
   "cell_type": "code",
   "execution_count": 4,
   "metadata": {},
   "outputs": [
    {
     "data": {
      "image/png": "[encoded data removed]",
      "text/plain": [
       "<Figure size 640x480 with 1 Axes>"
      ]
     },
     "metadata": {},
     "output_type": "display_data"
    }
   ],
   "source": [
    "import numpy as np\n",
    "import matplotlib.pyplot as plt\n",
    "\n",
    "mu = np.array([[ 5],\n",
    "               [10]])\n",
    "\n",
    "sigma = np.array([[9, 3],\n",
    "                  [3, 5]])\n",
    "\n",
    "L = np.linalg.cholesky(sigma)\n",
    "\n",
    "X = np.random.randn(2,4000)\n",
    "Y = L @ X + mu\n",
    "\n",
    "plt.scatter(*X, marker=\"x\", alpha=.4, label=r\"$X \\sim \\mathcal{N}(\\mathbf{0}, \\mathbf{I})$\")\n",
    "plt.scatter(*Y, marker=\"x\", alpha=.4, label=r\"$Y \\sim \\mathcal{N}(\\mathbf{\\mu}, \\mathbf{\\Sigma})$\")\n",
    "plt.axis(\"square\")\n",
    "plt.axvline(0, c=\"k\", lw=1)\n",
    "plt.axhline(0, c=\"k\", lw=1)\n",
    "plt.xlim(-10,20)\n",
    "plt.ylim(-10,20)\n",
    "plt.legend(loc=4)\n",
    "plt.show()"
   ]
  },
  {
   "cell_type": "markdown",
   "metadata": {},
   "source": [
    "#### Chapter 22.\n",
    "\n",
    "<span style=\"border: solid 1px; padding: 4px;\">Def.</span> Generalized inverse ($\\mathbf A^-, \\mathbf A^\\mathrm{g}$; g.i.)\n",
    "\n",
    "A generalized inverse matrix $\\mathbf G$ of a matrix $\\mathbf A$ is any matrix that satisfies $\\mathbf{AGA=A}$.\n",
    "\n",
    "<span style=\"border: solid 1px; padding: 4px;\">Prop.</span> Generalized inverse (g.i.)\n",
    "\n",
    "- Any matrix has at least one $\\mathbf G$.\n",
    "- If $\\mathbf A$ is nonsingular, there are infinite # of $\\mathbf G$.\n",
    "- If $\\mathbf A$ is singular, $\\mathbf A^{-1}$ is the unique $\\mathbf G$.\n",
    "- $\\mathbf{AGA=A} \\iff \\mathbf{A^\\mathsf{T} G^\\mathsf{T} A^\\mathsf{T} = A^\\mathsf{T}}$"
   ]
  },
  {
   "cell_type": "markdown",
   "metadata": {},
   "source": [
    "In case of symmetric matrix $\\mathbf S = \\mathbf{X}^\\mathsf{T} \\mathbf{X}$,\n",
    "\n",
    "$$\n",
    "\\begin{align*}\n",
    "\\mathbf{SS^{-}S} &= \\mathbf{S} \\\\\n",
    "\n",
    "(\\mathbf{X}^\\mathsf{T} \\mathbf{X})\n",
    "(\\mathbf{X}^\\mathsf{T} \\mathbf{X})^{-}\n",
    "(\\mathbf{X}^\\mathsf{T} \\mathbf{X}) &= \\mathbf{X}^\\mathsf{T} \\mathbf{X} \\\\\n",
    "\n",
    "\\mathbf{X}^\\mathsf{T} \\mathbf{X}\n",
    "(\\mathbf{X}^\\mathsf{T} \\mathbf{X})^{-}\n",
    "\\mathbf{X}^\\mathsf{T} &= \\mathbf{X}^\\mathsf{T} \\\\\n",
    "\n",
    "\\mathbf{X}^\\mathsf{T} \\left[ \\mathbf{X}\n",
    "(\\mathbf{X}^\\mathsf{T} \\mathbf{X})^{-} \\right]\n",
    "\\mathbf{X}^\\mathsf{T} &= \\mathbf{X}^\\mathsf{T} \\\\\n",
    "\n",
    "\\therefore (\\mathbf{X}^{\\mathsf T})^{-} &= \\mathbf{X} (\\mathbf{X}^\\mathsf{T} \\mathbf{X})^{-}\n",
    "\n",
    "\\end{align*}\n",
    "$$"
   ]
  },
  {
   "cell_type": "markdown",
   "metadata": {},
   "source": [
    "$$\n",
    "\\forall \\mathbf X \\exists \\mathbf B \\quad \\text{s.t.} \\quad (\\mathbf{X}^\\mathsf{T} \\mathbf{X}) \\mathbf{B} = \\mathbf{X}^\\mathsf{T}\n",
    "$$"
   ]
  },
  {
   "cell_type": "markdown",
   "metadata": {},
   "source": [
    "$$\n",
    "\\begin{align*}\n",
    "\\text{rank}(\\mathbf{X^\\mathsf{T} X}) &= \\text{rank}(\\mathbf{X}) \\\\\n",
    "\\because \\text{rank}(\\mathbf{AB}) &\\leq \\text{rank}(\\mathbf{B})\n",
    "\\end{align*}\n",
    "$$"
   ]
  },
  {
   "cell_type": "markdown",
   "metadata": {},
   "source": [
    "Generalized inverse and Moore-penrose inverse (m.p.i. $\\subset$ g.i.)\n",
    "\n",
    "https://www.sjsu.edu/faculty/guangliang.chen/Math253S20/lec6ginverse.pdf"
   ]
  },
  {
   "cell_type": "markdown",
   "metadata": {},
   "source": [
    "- g.i.\n",
    "  - $\\mathbf{AGA=A}$\n",
    "\n",
    "- m.p.i\n",
    "  - $\\mathbf{AGA=A}$\n",
    "  - $\\mathbf{GAG=G}$\n",
    "  - $\\mathbf{(GA)^{\\mathsf{T}} = GA}$\n",
    "  - $\\mathbf{(AG)^{\\mathsf{T}} = AG}$"
   ]
  },
  {
   "cell_type": "markdown",
   "metadata": {},
   "source": [
    "#### Chapter 23."
   ]
  },
  {
   "cell_type": "markdown",
   "metadata": {},
   "source": [
    "Linear regression (single variable)\n",
    "\n",
    "- $x_i$ : independent variable\n",
    "- $y_i$ : dependent variable\n",
    "- $\\beta$ : coefficient\n",
    "- $\\varepsilon_i \\sim \\mathcal{N}(0, \\sigma^2)$ : noise (usually an uncorrelated, zero meaned and has consistent variance $\\sigma^2$.)\n",
    "\n",
    "$$\n",
    "y_i =\n",
    "\\beta_0 +\n",
    "\\beta_1 x_i +\n",
    "\\varepsilon_i\n",
    "$$"
   ]
  },
  {
   "cell_type": "code",
   "execution_count": 5,
   "metadata": {},
   "outputs": [
    {
     "data": {
      "image/png": "[encoded data removed]",
      "text/plain": [
       "<Figure size 400x300 with 1 Axes>"
      ]
     },
     "metadata": {},
     "output_type": "display_data"
    }
   ],
   "source": [
    "import numpy as np\n",
    "import matplotlib.pyplot as plt\n",
    "\n",
    "X = np.linspace(-2, 4, 13).reshape(-1,1)\n",
    "X_Ones = np.concatenate([np.ones_like(X), X], axis=1)\n",
    "\n",
    "Beta = np.array([[1.0],\n",
    "                 [0.5]])\n",
    "\n",
    "Epsilon = np.random.randn(13 , 1)*.4\n",
    "\n",
    "Y_hat = X_Ones @ Beta\n",
    "Y = Y_hat + Epsilon\n",
    "plt.figure(figsize=(4,3))\n",
    "plt.scatter(X.T, Y.T, facecolor=\"w\", edgecolor=\"k\", label=r\"$\\mathbf{y}$\")\n",
    "plt.plot(X, Y_hat, c=\"b\", lw=1, ls=\"--\", label=r\"$\\hat{\\mathbf{y}}$\")\n",
    "plt.grid(alpha=.4)\n",
    "plt.axis(\"equal\")\n",
    "plt.legend(loc=4)\n",
    "plt.show()"
   ]
  },
  {
   "cell_type": "markdown",
   "metadata": {},
   "source": [
    "$$\n",
    "\\mathbf y =\n",
    "\\begin{bmatrix}\n",
    "y_1 \\\\\n",
    "y_2 \\\\\n",
    "\\vdots \\\\\n",
    "y_n\n",
    "\\end{bmatrix}, \\quad\n",
    "\n",
    "\\mathbf{X\\beta} =\n",
    "\\begin{bmatrix}\n",
    "1 & x_1 \\\\\n",
    "1 & x_2 \\\\\n",
    "\\vdots & \\vdots \\\\\n",
    "1 & x_n\n",
    "\\end{bmatrix}\n",
    "\n",
    "\\begin{bmatrix}\n",
    "\\beta_0 \\\\ \\beta_1\n",
    "\\end{bmatrix}, \\quad\n",
    "\n",
    "\\mathbf{\\varepsilon} =\n",
    "\\begin{bmatrix}\n",
    "\\varepsilon_1 \\\\\n",
    "\\varepsilon_2 \\\\\n",
    "\\vdots \\\\\n",
    "\\varepsilon_n\n",
    "\\end{bmatrix}\n",
    "$$"
   ]
  },
  {
   "cell_type": "markdown",
   "metadata": {},
   "source": [
    "Residual Sum of Squares (RSS)\n",
    "\n",
    "Better to see with _Kevin Murphy, Machine Learning, Ch7 Linear regression_\n",
    "\n",
    "$$\n",
    "\\begin{align*}\n",
    "\\sum\\limits_{i=1}^{n} (y_i - \\hat{y}_i)^2 &= \n",
    "\\sum\\limits_{i=1}^{n} \\left[ y_i - (\\beta_0 + \\beta_1 x_i) \\right]^2 \\\\\n",
    "\n",
    "(\\mathbf{y - \\hat{y}})^\\mathsf{T} (\\mathbf{y - \\hat{y}}) &= \n",
    "(\\mathbf{y - X\\beta})^\\mathsf{T} (\\mathbf{y - X\\beta}) \\\\\n",
    "&= \n",
    "(\\mathbf{X\\beta + \\varepsilon - X\\beta})^\\mathsf{T} (\\mathbf{X\\beta + \\varepsilon - X\\beta}) \\\\\n",
    "&= \n",
    "\\mathbf\\varepsilon^\\mathsf{T} \\mathbf\\varepsilon \\\\\n",
    "&= \n",
    "\\mathbf\\varepsilon^\\mathsf{T} \\mathbf\\varepsilon \\\\\n",
    "\\end{align*}\n",
    "$$"
   ]
  },
  {
   "cell_type": "markdown",
   "metadata": {},
   "source": [
    "Murphy, K. (2021). Machine learning: A probabilistic perspective. MIT Press. p217\n",
    "\n",
    "RSS stands for __residual sum of squares__ (aka. SSE).\n",
    "\n",
    "$$\n",
    "\\begin{align*}\n",
    "\\text{RSS}(\\mathbf w) &\\triangleq \\sum\\limits_{i=1}^{N} (y_i - \\mathbf{w}^\\mathsf{T} \\mathbf{x}_i)^2 \\\\\n",
    "&= \\| \\mathbf{\\epsilon} \\|_2^2\n",
    "\\end{align*}\n",
    "$$"
   ]
  },
  {
   "cell_type": "markdown",
   "metadata": {},
   "source": [
    "$\\dfrac{\\text{numerator}}{\\text{denominator}}$ layout\n",
    "\n",
    "ref.\n",
    "- https://math.stackexchange.com/questions/2379469/how-should-i-study-the-matrix-cookbook\n",
    "- https://www.sfu.ca/~haiyunc/notes/matrix_calculus.pdf\n",
    "- https://souryadey.github.io/teaching/material/Matrix_Calculus.pdf\n",
    "\n",
    "\n",
    "$$\n",
    "\\begin{array}{rc}\n",
    "& & \\mathbf{x} \\\\[10pt]\n",
    "\n",
    "\\text{numerator layout } (\\mathbf J) & \\mathbf{f} &\n",
    "\\begin{bmatrix}\n",
    "\\frac{\\partial f_1}{\\partial x_1} & \\frac{\\partial f_1}{\\partial x_2} & \\frac{\\partial f_1}{\\partial x_3} \\\\[10pt]\n",
    "\\frac{\\partial f_2}{\\partial x_1} & \\frac{\\partial f_2}{\\partial x_2} & \\frac{\\partial f_2}{\\partial x_3} \\\\[10pt]\n",
    "\\frac{\\partial f_3}{\\partial x_1} & \\frac{\\partial f_3}{\\partial x_2} & \\frac{\\partial f_3}{\\partial x_3}\n",
    "\\end{bmatrix} \\\\[50pt]\n",
    "\n",
    "& & \\mathbf{f} \\\\[10pt]\n",
    "\\text{denominator layout } (\\mathbf H) & \\mathbf{x} &\n",
    "\\begin{bmatrix}\n",
    "\\frac{\\partial f_1}{\\partial x_1} & \\frac{\\partial f_2}{\\partial x_1} & \\frac{\\partial f_3}{\\partial x_1} \\\\[10pt]\n",
    "\\frac{\\partial f_1}{\\partial x_2} & \\frac{\\partial f_2}{\\partial x_2} & \\frac{\\partial f_3}{\\partial x_2} \\\\[10pt]\n",
    "\\frac{\\partial f_1}{\\partial x_3} & \\frac{\\partial f_2}{\\partial x_3} & \\frac{\\partial f_3}{\\partial x_3}\n",
    "\\end{bmatrix} \\\\\n",
    "\\end{array}\n",
    "$$"
   ]
  },
  {
   "cell_type": "markdown",
   "metadata": {},
   "source": [
    "$$\n",
    "\\begin{align*}\n",
    "L(\\mathbf{\\beta}) &= \\mathbf{(y - \\hat{y})^\\mathsf{T}(y - \\hat{y})} \\\\\n",
    "&= \\mathbf{(y - X\\beta)^\\mathsf{T}(y - X\\beta)} \\\\\n",
    "&= \\mathbf{y^\\mathsf{T}y - \\beta^\\mathsf{T}X^\\mathsf{T}y - y^\\mathsf{T}X\\beta + \\beta^\\mathsf{T}X^\\mathsf{T}X\\beta} \\\\\n",
    "&= \\mathbf{y^\\mathsf{T}y} - 2 \\mathbf{y^\\mathsf{T}X\\beta + \\beta^\\mathsf{T}X^\\mathsf{T}X\\beta} \\\\[20pt]\n",
    "\n",
    "\\dfrac{\\partial L}{\\partial \\mathbf{\\beta}} &=\n",
    "\\begin{bmatrix}\n",
    "\\dfrac{\\partial L}{\\partial \\beta_1} \\\\[15pt]\n",
    "\\dfrac{\\partial L}{\\partial \\beta_2}\n",
    "\\end{bmatrix} \\\\[30pt]\n",
    "&= -2 \\mathbf{X^\\mathsf{T}y + \\{(X^\\mathsf{T}X) + (X^\\mathsf{T}X)^\\mathsf{T}\\} \\beta } \\\\\n",
    "&= -2 \\mathbf{X^\\mathsf{T}y} + 2 \\mathbf{X^\\mathsf{T}X \\beta } \\\\[20pt]\n",
    "\n",
    "\\dfrac{\\partial L}{\\partial \\mathbf{\\beta}} &= 0 \\\\\n",
    "-2 \\mathbf{X^\\mathsf{T}y} + 2 \\mathbf{X^\\mathsf{T}X \\beta } &= 0 \\\\\n",
    "\\mathbf{X^\\mathsf{T}X \\beta } &= \\mathbf{X^\\mathsf{T}y} \\\\\n",
    "\\mathbf{(X^\\mathsf{T}X)^{-} (X^\\mathsf{T}X) \\beta } &= \\mathbf{(X^\\mathsf{T}X)^{-} X^\\mathsf{T}y} \\\\\n",
    "\\mathbf{ \\beta } &= \\mathbf{(X^\\mathsf{T}X)^{-} X^\\mathsf{T}y} \\\\\n",
    "\n",
    "\\end{align*}\n",
    "$$"
   ]
  },
  {
   "cell_type": "markdown",
   "metadata": {},
   "source": []
  }
 ],
 "metadata": {
  "kernelspec": {
   "display_name": "base",
   "language": "python",
   "name": "python3"
  },
  "language_info": {
   "codemirror_mode": {
    "name": "ipython",
    "version": 3
   },
   "file_extension": ".py",
   "mimetype": "text/x-python",
   "name": "python",
   "nbconvert_exporter": "python",
   "pygments_lexer": "ipython3",
   "version": "3.11.0"
  }
 },
 "nbformat": 4,
 "nbformat_minor": 2
}
