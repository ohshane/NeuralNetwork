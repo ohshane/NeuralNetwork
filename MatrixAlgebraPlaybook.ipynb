{
 "cells": [
  {
   "cell_type": "markdown",
   "metadata": {},
   "source": [
    "matrixalgebra-playbook\n",
    "\n",
    "- https://youtube.com/playlist?list=PLKtLBdGREmMkHa-5ApBRuW-Y7geUEeA7q\n",
    "- https://en.wikipedia.org/wiki/Covariance_matrix"
   ]
  },
  {
   "cell_type": "markdown",
   "metadata": {},
   "source": [
    "youtube notation: $\\mathbf X = (X_1, \\cdots, X_m)$ \\\n",
    "wikipedia notation: $\\mathbf X = (X_1, \\cdots, X_m)^\\mathsf{T}$\n",
    "\n",
    "RVs ($X$) are column vectors."
   ]
  },
  {
   "cell_type": "markdown",
   "metadata": {},
   "source": [
    "#### Chapter 01."
   ]
  },
  {
   "cell_type": "markdown",
   "metadata": {},
   "source": [
    "다음은 6명의 학생들에 대한 과목별 성적 데이터이다. 각 과목의 성적을 합산하여 성적을 계산하고자 한다.\n",
    "\n",
    "$$\n",
    "\\begin{align*}\n",
    "& \\text{ 표 2.1: 기말고사 성적표 } \\\\\n",
    "& \\begin{array}{c}\n",
    "\\hline \\hline\n",
    "& \\text{ 국어 } & \\text{ 영어 } & \\text{ 수학 } & \\text{ 과학 } \\\\\n",
    "\\hline\n",
    "\\text{ 학생1 } & 5 & 1 & 2 & 7 \\\\\n",
    "\\text{ 학생2 } & 9 & 1 & 3 & 9 \\\\\n",
    "\\text{ 학생3 } & 8 & 1 & 4 & 2 \\\\\n",
    "\\text{ 학생4 } & 3 & 1 & 5 & 6 \\\\\n",
    "\\text{ 학생5 } &10 & 5 & 8 & 5 \\\\\n",
    "\\text{ 학생6 } & 2 & 8 & 9 & 9 \\\\\n",
    "\\hline\n",
    "\\end{array}_{n \\times m}\n",
    "\\end{align*}\n",
    "$$\n",
    "\n",
    "하지만 이번 기말고사에서는 상대적으로 국어 시험이 영어 시험보다 어렵게 출제되어, 국어 시험 성적에 대한 가중치를 30%, 영어 성적에는 20%, 나머지는 25% 가중치를 부여하여 계산하고자 한다."
   ]
  },
  {
   "cell_type": "markdown",
   "metadata": {},
   "source": [
    "Data matrix (random vector) $\\mathbf X$\n",
    "- samples : $(\\mathbf x_1 \\cdots \\mathbf x_n)$\n",
    "- RVs : $(X_1 \\cdots X_m)$\n",
    "\n",
    "$$\n",
    "\\mathbf X =\n",
    "\\begin{bmatrix}\n",
    "\\text{---} & \\mathbf{x}_1^\\mathsf{T} & \\text{---} \\\\\n",
    "& \\vdots & \\\\\n",
    "\\text{---} & \\mathbf{x}_n^\\mathsf{T} & \\text{---} \\\\\n",
    "\\end{bmatrix} =\n",
    "\n",
    "\\begin{bmatrix}\n",
    "\\vert & & \\vert \\\\\n",
    "X_1 & \\cdots & X_m \\\\\n",
    "\\vert & & \\vert \\\\\n",
    "\\end{bmatrix} =\n",
    "\n",
    "\\begin{bmatrix}\n",
    " 5 & 1 & 2 & 7 \\\\\n",
    " 9 & 1 & 3 & 9 \\\\\n",
    " 8 & 1 & 4 & 2 \\\\\n",
    " 3 & 1 & 5 & 6 \\\\\n",
    "10 & 5 & 8 & 5 \\\\\n",
    " 2 & 8 & 9 & 9 \\\\\n",
    "\\end{bmatrix},\n",
    "\\quad\n",
    "\n",
    "\\beta =\n",
    "\\begin{bmatrix}\n",
    "0.3 \\\\\n",
    "0.2 \\\\\n",
    "0.25 \\\\\n",
    "0.25 \\\\\n",
    "\\end{bmatrix} \\\\[20pt]\n",
    "\n",
    "\\therefore \\mathbf X \\beta\n",
    "$$"
   ]
  },
  {
   "cell_type": "markdown",
   "metadata": {},
   "source": [
    "#### Chapter 02."
   ]
  },
  {
   "cell_type": "markdown",
   "metadata": {},
   "source": [
    "<span style=\"border: solid 1px; padding: 4px;\">Def.</span> Identity Matrix\n",
    "\n",
    "$$\n",
    "AI_n = I_nA = A\n",
    "$$"
   ]
  },
  {
   "cell_type": "markdown",
   "metadata": {},
   "source": [
    "<span style=\"border: solid 1px; padding: 4px;\">Prop.</span> Diagonal Matrix\n",
    "\n",
    "Communitivity\n",
    "\n",
    "$$\n",
    "AB = BA \\\\\n",
    "$$"
   ]
  },
  {
   "cell_type": "markdown",
   "metadata": {},
   "source": [
    "<span style=\"border: solid 1px; padding: 4px;\">Def.</span> Idempotent Matrix (멱등행렬)\n",
    "\n",
    "$A$ must necessarily be a square matrix.\n",
    "\n",
    "$$\n",
    "A^2 = A\n",
    "$$\n",
    "\n",
    "e.g.\n",
    "$$\n",
    "\\begin{bmatrix}\n",
    "1 & 1 \\\\\n",
    "0 & 0 \\\\\n",
    "\\end{bmatrix}\n",
    "\\begin{bmatrix}\n",
    "1 & 1 \\\\\n",
    "0 & 0 \\\\\n",
    "\\end{bmatrix}\n",
    "=\n",
    "\\begin{bmatrix}\n",
    "1 & 1 \\\\\n",
    "0 & 0 \\\\\n",
    "\\end{bmatrix}\n",
    "$$"
   ]
  },
  {
   "cell_type": "markdown",
   "metadata": {},
   "source": [
    "<span style=\"border: solid 1px; padding: 4px;\">Prop.</span> Idempotent Matrix\n",
    "\n",
    "If $A$ is idempotent, $I - A$ is also idempotent.\n",
    "\n",
    "$$\n",
    "\\begin{align*}\n",
    "(I - A)(I - A)\n",
    "&= I^2 - AI - IA + A^2 \\\\\n",
    "&= I - A - A + A \\\\\n",
    "&= I - A\n",
    "\\end{align*}\n",
    "$$"
   ]
  },
  {
   "cell_type": "markdown",
   "metadata": {},
   "source": [
    "#### Chapter 03."
   ]
  },
  {
   "cell_type": "markdown",
   "metadata": {},
   "source": [
    "<span style=\"border: solid 1px; padding: 4px;\">Def.</span> Matrix of Ones (all-ones matrix) : PSD\n",
    "\n",
    "<span style=\"border: solid 1px; padding: 4px;\">Def.</span> Vector of ones (all-ones vector)\n",
    "\n",
    "$$\n",
    "J_n =\n",
    "\\begin{bmatrix}\n",
    "1 & \\cdots & 1 \\\\\n",
    "\\vdots & \\ddots & \\vdots \\\\\n",
    "1 & \\cdots & 1 \\\\\n",
    "\\end{bmatrix}_{n \\times n}\n",
    "\n",
    "\\mathbf{1}_n =\n",
    "\\begin{bmatrix}\n",
    "1 \\\\ \\vdots \\\\ 1\n",
    "\\end{bmatrix}_{n \\times 1}\n",
    "$$\n",
    "\n",
    "<span style=\"border: solid 1px; padding: 4px;\">Prop.</span> Matrix of Ones (all-ones matrix)\n",
    "\n",
    "$$\n",
    "J_{m,n} = \\mathbf{1}_m \\mathbf{1}_n^{\\mathsf{T}}\n",
    "$$"
   ]
  },
  {
   "cell_type": "markdown",
   "metadata": {},
   "source": [
    "Averaging elements of a vector ($\\bar{x}$)\n",
    "\n",
    "$$\n",
    "\\bar{x} = \\dfrac{1}{n} \\mathbf{1}^\\mathsf{T} \\mathbf x\n",
    "$$"
   ]
  },
  {
   "cell_type": "markdown",
   "metadata": {},
   "source": [
    "Averaging vectors of a matrix ($\\bar{\\mathbf x}$)\n",
    "\n",
    "$$\n",
    "\\bar{\\mathbf x} = \\dfrac{1}{n} \\mathbf X^\\mathsf{T} \\mathbf{1}\n",
    "$$"
   ]
  },
  {
   "cell_type": "markdown",
   "metadata": {},
   "source": [
    "#### Chapter 04."
   ]
  },
  {
   "cell_type": "markdown",
   "metadata": {},
   "source": [
    "Centered matrix ($\\tilde{\\mathbf X} = \\mathrm{E}[\\mathbf X]$)\n",
    "\n",
    "$$\n",
    "\\begin{align*}\n",
    "\\tilde{\\mathbf X}\n",
    "&= \\mathbf X - \\mathbf{1} \\bar{\\mathbf x}^\\mathsf{T} \\\\\n",
    "&= \\mathbf X - \\mathbf{1} \\left( \\dfrac{1}{n} \\mathbf{X}^\\mathsf{T} \\mathbf{1} \\right)^\\mathsf{T} \\\\\n",
    "&= \\mathbf X - \\dfrac{1}{n} \\mathbf{1} \\mathbf{1}^\\mathsf{T} \\mathbf{X} \\\\\n",
    "&= \\left( I - \\dfrac{1}{n}J \\right) \\mathbf X \\\\\n",
    "&= C \\mathbf X\n",
    "\\end{align*}\n",
    "$$"
   ]
  },
  {
   "cell_type": "markdown",
   "metadata": {},
   "source": [
    "Centering matrix ($C$)\n",
    "\n",
    "$$\n",
    "\\begin{align*}\n",
    "C &= I_n - \\dfrac{1}{n}J_n \\\\\n",
    "&=\n",
    "\\begin{bmatrix}\n",
    "\\frac{n-1}{n} & -\\frac{1}{n} & \\cdots & -\\frac{1}{n} \\\\[10pt]\n",
    "-\\frac{1}{n} & \\frac{n-1}{n} & & -\\frac{1}{n} \\\\[10pt]\n",
    "\\vdots & & \\ddots & \\vdots \\\\[10pt]\n",
    "-\\frac{1}{n} & -\\frac{1}{n} & \\cdots & \\frac{n-1}{n}\n",
    "\\end{bmatrix}\n",
    "\\end{align*}\n",
    "$$\n",
    "\n",
    "$C$ does the same thing as $\\mathbf X - \\mathrm{E}[\\mathbf X]$."
   ]
  },
  {
   "cell_type": "code",
   "execution_count": 26,
   "metadata": {},
   "outputs": [
    {
     "data": {
      "image/png": "[encoded data removed]",
      "text/plain": [
       "<Figure size 900x300 with 3 Axes>"
      ]
     },
     "metadata": {},
     "output_type": "display_data"
    }
   ],
   "source": [
    "import numpy as np\n",
    "import matplotlib.pyplot as plt\n",
    "\n",
    "def seeded(f):\n",
    "    def wrapper(*args, **kwargs):\n",
    "        np.random.seed(42)\n",
    "        result = f(*args, **kwargs)\n",
    "        np.random.seed(None)\n",
    "        return result\n",
    "    return wrapper\n",
    "\n",
    "@seeded\n",
    "def make_X(samples):\n",
    "    return np.random.randn(samples,2)@np.array([[3,1],[1,2]]) + np.array([4, 8])\n",
    "\n",
    "n = 10\n",
    "X = make_X(samples=n)\n",
    "C = np.eye(n) - np.ones((n,n)) / n\n",
    "X_tilde = C @ X\n",
    "\n",
    "fig, axs = plt.subplots(1,3,figsize=(9,3))\n",
    "axs[0].set_title(r'$X$')\n",
    "axs[0].scatter(*X.T)\n",
    "axs[0].axvline(c='k')\n",
    "axs[0].axhline(c='k')\n",
    "axs[0].axis(\"equal\")\n",
    "\n",
    "axs[1].set_title(r'$CX$')\n",
    "axs[1].scatter(*X_tilde.T)\n",
    "axs[1].axvline(c='k')\n",
    "axs[1].axhline(c='k')\n",
    "axs[1].axis(\"equal\")\n",
    "\n",
    "axs[2].set_title(r'$C$')\n",
    "axs[2].imshow(C)\n",
    "plt.show()"
   ]
  },
  {
   "cell_type": "markdown",
   "metadata": {},
   "source": [
    "#### Chapter 05."
   ]
  },
  {
   "cell_type": "markdown",
   "metadata": {},
   "source": [
    "<span style=\"border: solid 1px; padding: 4px;\">Prop.</span> Centering Matirx ($C$)\n",
    "\n",
    "- $C$ is idempotent. $\\implies$ $CC=C$ (also $C^n = C$) \n",
    "- $C^\\mathsf{T} = C$\n",
    "\n",
    "$$\n",
    "\\begin{align*}\n",
    "\\left(I - \\dfrac{1}{n}J \\right)\\left(I - \\dfrac{1}{n}J \\right)\n",
    "&= I^2 - \\dfrac{1}{n}JI - \\dfrac{1}{n}IJ + \\dfrac{1}{n^2}J^2 \\\\[10pt]\n",
    "&= I - \\dfrac{2}{n}J + \\dfrac{1}{n^2}J^2 \\\\[10pt]\n",
    "&= I - \\dfrac{2}{n}J + \\dfrac{1}{n^2}nJ \\\\[10pt]\n",
    "&= I - \\dfrac{1}{n}J\n",
    "\\end{align*}\n",
    "$$"
   ]
  },
  {
   "cell_type": "markdown",
   "metadata": {},
   "source": [
    "#### Chapter 06."
   ]
  },
  {
   "cell_type": "markdown",
   "metadata": {},
   "source": [
    "Sample variance\n",
    "\n",
    "$$\n",
    "s^2 = s_{xx} = \\dfrac{1}{n-1} \\sum\\limits_{i=1}^{n}(x_i - \\bar{x})^2 \\\\\n",
    "$$"
   ]
  },
  {
   "cell_type": "markdown",
   "metadata": {},
   "source": [
    "$$\n",
    "\\text{cov}(X, X) = \\mathrm{K}_{XX} =\n",
    "\\begin{bmatrix}\n",
    "s_{xx}\n",
    "\\end{bmatrix} =\n",
    " \\dfrac{1}{n-1} \\sum\\limits_{i=1}^{n}(x_i - \\bar{x})^2 \\\\\n",
    "$$"
   ]
  },
  {
   "cell_type": "markdown",
   "metadata": {},
   "source": [
    "Sample covariance\n",
    "\n",
    "$$\n",
    "S = \\text{cov}(\\mathbf X, \\mathbf X) = \\mathrm{K}_{\\mathbf X \\mathbf X} =\n",
    "\\begin{bmatrix}\n",
    "s_{x_1x_1} & \\cdots & s_{x_1x_m} \\\\\n",
    "\\vdots & \\ddots & \\vdots \\\\\n",
    "s_{x_mx_1} & \\cdots & s_{x_mx_m} \\\\\n",
    "\\end{bmatrix}\n",
    "= \\dfrac{1}{n-1} \\sum\\limits_{i=1}^{n} (\\mathbf x_i - \\bar{\\mathbf x}) (\\mathbf x_i - \\bar{\\mathbf x})^\\mathsf{T} = \\dfrac{1}{n-1} \\tilde{\\mathbf{X}}^\\mathsf{T} \\tilde{\\mathbf{X}}\n",
    "$$\n"
   ]
  },
  {
   "cell_type": "markdown",
   "metadata": {},
   "source": [
    "$$\n",
    "\\begin{align*}\n",
    "\n",
    "\\dfrac{1}{n-1} \\tilde{\\mathbf{X}}^\\mathsf{T} \\tilde{\\mathbf{X}}\n",
    "&=\n",
    "\\dfrac{1}{n-1}\n",
    "\\begin{bmatrix}\n",
    "\\vert & & \\vert \\\\\n",
    "\\tilde{\\mathbf x}_1 & \\cdots & \\tilde{\\mathbf x}_n \\\\\n",
    "\\vert & & \\vert \\\\\n",
    "\\end{bmatrix}\n",
    "\n",
    "\\begin{bmatrix}\n",
    "\\text{---} & \\tilde{\\mathbf x}_1^\\mathsf{T} & \\text{---} \\\\\n",
    "& \\vdots & \\\\\n",
    "\\text{---} & \\tilde{\\mathbf x}_n^\\mathsf{T} & \\text{---} \\\\\n",
    "\\end{bmatrix} \\\\\n",
    "&= \n",
    "\\dfrac{1}{n-1}\n",
    "\\begin{bmatrix}\n",
    "\\text{---} & X_1^\\mathsf{T} & \\text{---} \\\\\n",
    "& \\vdots & \\\\\n",
    "\\text{---} & X_m^\\mathsf{T} & \\text{---} \\\\\n",
    "\\end{bmatrix}\n",
    "\n",
    "\\begin{bmatrix}\n",
    "\\vert & & \\vert \\\\\n",
    "X_1 & \\cdots & X_m \\\\\n",
    "\\vert & & \\vert \\\\\n",
    "\\end{bmatrix}\n",
    "\\end{align*}\n",
    "$$"
   ]
  },
  {
   "cell_type": "markdown",
   "metadata": {},
   "source": [
    "$$\n",
    "\\begin{align*}\n",
    "\\mathrm{K}_{\\mathbf X \\mathbf X} =\n",
    "\\dfrac{1}{n-1} \\tilde{\\mathbf{X}}^\\mathsf{T} \\tilde{\\mathbf{X}}\n",
    "&=\n",
    "\\dfrac{1}{n-1} (C \\mathbf{X})^\\mathsf{T} (C \\mathbf{X}) \\\\\n",
    "&=\n",
    "\\dfrac{1}{n-1} \\mathbf{X}^\\mathsf{T} C^\\mathsf{T} C \\mathbf{X} \\\\\n",
    "&=\n",
    "\\dfrac{1}{n-1} \\mathbf{X}^\\mathsf{T} C C \\mathbf{X} \\qquad \\cdots \\text{symmetric} \\\\\n",
    "&=\n",
    "\\dfrac{1}{n-1} \\mathbf{X}^\\mathsf{T} C \\mathbf{X} \\qquad \\cdots \\text{idempotent} \\\\\n",
    "\\end{align*}\n",
    "$$"
   ]
  },
  {
   "cell_type": "markdown",
   "metadata": {},
   "source": [
    "#### Chapter 07."
   ]
  },
  {
   "cell_type": "markdown",
   "metadata": {},
   "source": [
    "The relation between the auto-covariate matrix $\\mathrm{K}_{\\mathbf X \\mathbf X}$ and  the autocorrelation matrix $\\mathrm{R}_{\\mathbf X \\mathbf X}$.\n",
    "\n",
    "https://en.wikipedia.org/wiki/Covariance_matrix"
   ]
  },
  {
   "cell_type": "code",
   "execution_count": 94,
   "metadata": {},
   "outputs": [
    {
     "name": "stdout",
     "output_type": "stream",
     "text": [
      "---------K----------\n",
      "[[9.36 4.85]\n",
      " [4.85 5.05]]\n",
      "---------R----------\n",
      "[[1.   0.71]\n",
      " [0.71 1.  ]]\n"
     ]
    }
   ],
   "source": [
    "@seeded\n",
    "def make_X(samples):\n",
    "    return np.random.randn(samples,2)@np.array([[3,1],[1,2]]) + np.array([4, 8])\n",
    "\n",
    "n = 1000\n",
    "X = make_X(n)\n",
    "\n",
    "X_tilde = X - X.mean(0)\n",
    "K = cov = 1/n * (X_tilde.T @ X_tilde)\n",
    "\n",
    "R = corr = np.diag(K.diagonal()**(-1/2)) @ K @ np.diag(K.diagonal()**(-1/2))\n",
    "\n",
    "with np.printoptions(precision=2, suppress=True):\n",
    "    print(f\"{'K':-^20}\")\n",
    "    print(K)\n",
    "    print(f\"{'R':-^20}\")\n",
    "    print(R)"
   ]
  },
  {
   "cell_type": "markdown",
   "metadata": {},
   "source": [
    "$$\n",
    "\\begin{align*}\n",
    "\n",
    "\\mathrm{K}_{\\mathbf X \\mathbf X}\n",
    "&=\n",
    "\\mathrm{E}[ (\\mathbf X - \\mathrm{E}[\\mathbf X]) (\\mathbf X - \\mathrm{E}[\\mathbf X])^\\mathsf{T} ] \\\\[10px]\n",
    "\n",
    "&=\n",
    "\\mathrm{E}\n",
    "\\left[\n",
    "\\begin{pmatrix}\n",
    "\\text{---} & \\tilde X_1^\\mathsf{T} & \\text{---} \\\\\n",
    "& \\vdots & \\\\\n",
    "\\text{---} & \\tilde X_m^\\mathsf{T} & \\text{---} \\\\\n",
    "\\end{pmatrix}\n",
    "\\begin{pmatrix}\n",
    "\\vert & & \\vert \\\\\n",
    "\\tilde X_1 & \\cdots & \\tilde X_m \\\\\n",
    "\\vert & & \\vert \\\\\n",
    "\\end{pmatrix}\n",
    "\\right] \\\\[10px]\n",
    "\n",
    "&=\n",
    "\\mathrm{E}\n",
    "\\left[\n",
    "\\begin{pmatrix}\n",
    "\\tilde X_1^\\mathsf{T} \\tilde X_1 & \\cdots & \\tilde X_1^\\mathsf{T} \\tilde X_m \\\\\n",
    "\\vdots & \\ddots & \\vdots \\\\\n",
    "\\tilde X_m^\\mathsf{T} \\tilde X_1 & \\cdots & \\tilde X_m^\\mathsf{T} \\tilde X_m \\\\\n",
    "\\end{pmatrix}\n",
    "\\right] \\\\[10pt]\n",
    "\n",
    "&=\n",
    "\\dfrac{1}{n}\n",
    "\\begin{pmatrix}\n",
    "\\tilde X_1^\\mathsf{T} \\tilde X_1 & \\cdots & \\tilde X_1^\\mathsf{T} \\tilde X_m \\\\\n",
    "\\vdots & \\ddots & \\vdots \\\\\n",
    "\\tilde X_m^\\mathsf{T} \\tilde X_1 & \\cdots & \\tilde X_m^\\mathsf{T} \\tilde X_m \\\\\n",
    "\\end{pmatrix} \\\\[10px]\n",
    "\n",
    "\\end{align*}\n",
    "$$"
   ]
  },
  {
   "cell_type": "markdown",
   "metadata": {},
   "source": [
    "$$\n",
    "\\begin{align*}\n",
    "\n",
    "\\mathrm{K}_{\\mathbf X \\mathbf X}\n",
    "&=\n",
    "\\mathrm{E}[ (\\mathbf X - \\mathrm{E}[\\mathbf X]) (\\mathbf X - \\mathrm{E}[\\mathbf X])^\\mathsf{T} ] \\\\[10px]\n",
    "\n",
    "&=\n",
    "\\mathrm{E}[\\mathbf X \\mathbf X^\\mathsf{T}] - \\mathrm{E}[\\mathbf X] \\mathrm{E}[X]^\\mathsf{T} \\\\\n",
    "\n",
    "&=\n",
    "\\mathrm{R}_{\\mathbf X \\mathbf X} - \\mathrm{E}[\\mathbf X] \\mathrm{E}[X]^\\mathsf{T} \\\\\n",
    "\n",
    "\\end{align*}\n",
    "$$"
   ]
  },
  {
   "cell_type": "markdown",
   "metadata": {},
   "source": [
    "$$\n",
    "\\begin{align*}\n",
    "\n",
    "\\mathrm{R}_{\\mathbf X \\mathbf X}\n",
    "&=\n",
    "\\begin{bmatrix}\n",
    "1 & \\cdots & \\rho_{1m} \\\\[10pt]\n",
    "\\vdots & \\ddots & \\vdots \\\\[10pt]\n",
    "\\rho_{m1} & \\cdots & 1 \\\\\n",
    "\\end{bmatrix} \\\\[30pt]\n",
    "\n",
    "&=\n",
    "\\begin{bmatrix}\n",
    "\\sigma_{1}^{-1} & & 0 \\\\[10pt]\n",
    "& \\ddots & \\\\[10pt]\n",
    "0 & & \\sigma_{m}^{-1} \\\\\n",
    "\\end{bmatrix}\n",
    "\n",
    "\\begin{bmatrix}\n",
    "& & \\\\[10pt]\n",
    "& \\mathrm{K}_{\\mathbf X \\mathbf X} & \\\\[10pt]\n",
    "& & \\\\\n",
    "\\end{bmatrix}\n",
    "\n",
    "\\begin{bmatrix}\n",
    "\\sigma_{1}^{-1} & & 0 \\\\[10pt]\n",
    "& \\ddots & \\\\[10pt]\n",
    "0 & & \\sigma_{m}^{-1} \\\\\n",
    "\\end{bmatrix} \\\\[30pt]\n",
    "\n",
    "&=\n",
    "\\begin{bmatrix}\n",
    "\\sigma_{1}^{-1} & & 0 \\\\[10pt]\n",
    "& \\ddots & \\\\[10pt]\n",
    "0 & & \\sigma_{m}^{-1} \\\\\n",
    "\\end{bmatrix}\n",
    "\n",
    "\\begin{bmatrix}\n",
    "\\sigma_{1}^2 & \\cdots & \\rho_{1m} \\sigma_{1} \\sigma_{m} \\\\[10pt]\n",
    "\\vdots & \\ddots & \\vdots \\\\[10pt]\n",
    "\\rho_{m1} \\sigma_{m} \\sigma_{1} & \\cdots & \\sigma_{m}^2 \\\\\n",
    "\\end{bmatrix}\n",
    "\n",
    "\\begin{bmatrix}\n",
    "\\sigma_{1}^{-1} & & 0 \\\\[10pt]\n",
    "& \\ddots & \\\\[10pt]\n",
    "0 & & \\sigma_{m}^{-1} \\\\\n",
    "\\end{bmatrix}\n",
    "\n",
    "\\end{align*}\n",
    "$$"
   ]
  },
  {
   "cell_type": "markdown",
   "metadata": {},
   "source": [
    "#### Chapter 08."
   ]
  },
  {
   "cell_type": "markdown",
   "metadata": {},
   "source": [
    "<span style=\"border: solid 1px; padding: 4px;\">Def.</span> Trace\n",
    "\n",
    "$$\n",
    "\\mathrm{tr}(A) = \\sum\\limits_{i=1}^{n} a_{ii}\n",
    "$$"
   ]
  },
  {
   "cell_type": "markdown",
   "metadata": {},
   "source": [
    "<span style=\"border: solid 1px; padding: 4px;\">Prop.</span> Trace\n",
    "\n",
    "$$\n",
    "\\begin{align*}\n",
    "\\mathrm{tr}(k A) &= k \\ \\mathrm{tr}(A) \\\\\n",
    "\\mathrm{tr}(A + B) &= \\mathrm{tr}(A) + \\mathrm{tr}(B) \\\\[10pt]\n",
    "\\mathrm{tr}(AB) &= \\mathrm{tr}(BA) \\\\\n",
    "\\mathrm{tr}(ABC) &= \\mathrm{tr}(BCA) = \\mathrm{tr}(CAB)\n",
    "\\end{align*}\n",
    "$$"
   ]
  },
  {
   "cell_type": "markdown",
   "metadata": {},
   "source": [
    "#### Chapter 09."
   ]
  },
  {
   "cell_type": "markdown",
   "metadata": {},
   "source": [
    "<span style=\"border: solid 1px; padding: 4px;\">Def.</span> Inverse\n",
    "\n",
    "$$\n",
    "\\begin{align*}\n",
    "AA^{-1} = A^{-1}A = I\n",
    "\\end{align*}\n",
    "$$"
   ]
  },
  {
   "cell_type": "markdown",
   "metadata": {},
   "source": [
    "<span style=\"border: solid 1px; padding: 4px;\">Prop.</span> Inverse\n",
    "\n",
    "- $M$ : minor (scalar; $\\mathrm{det}$ of a smaller matrix)\n",
    "- $C$ : cofactor (scalar; signed minor)\n",
    "  - $C = (-1)^{i+j}M_{ij}$\n",
    "- $\\mathbf C$ : cofactor matrix (matrix)\n",
    "  - $\\mathbf C^\\mathsf{T} = \\mathrm{adj}(\\mathbf A)$\n",
    "\n",
    "$$\n",
    "\\begin{align*}\n",
    "\\mathbf A^{-1} &= \\dfrac{1}{\\mathrm{det}(\\mathbf A)} \\mathrm{adj}(\\mathbf A) \\\\[20pt]\n",
    "&= \\dfrac{1}{\\mathrm{det}(\\mathbf A)} \\mathbf C^{\\mathsf T} \\\\[20pt]\n",
    "\n",
    "&= \\dfrac{1}{\\mathrm{det}(\\mathbf A)}\n",
    "\\begin{bmatrix}\n",
    "+ M_{11} & - M_{12} & + M_{13} & - M_{14} \\\\[10pt]\n",
    "- M_{21} & + M_{22} & - M_{23} & + M_{24} \\\\[10pt]\n",
    "+ M_{31} & - M_{32} & + M_{33} & - M_{34} \\\\[10pt]\n",
    "- M_{41} & + M_{42} & - M_{43} & + M_{44}\n",
    "\\end{bmatrix}^\\mathsf{T} \\\\[40pt]\n",
    "\n",
    "&= \\dfrac{1}{\\mathrm{det}(\\mathbf A)}\n",
    "\\begin{bmatrix}\n",
    "C_{11} & C_{12} & C_{13} & C_{14} \\\\[10pt]\n",
    "C_{21} & C_{22} & C_{23} & C_{24} \\\\[10pt]\n",
    "C_{31} & C_{32} & C_{33} & C_{34} \\\\[10pt]\n",
    "C_{41} & C_{42} & C_{43} & C_{44}\n",
    "\\end{bmatrix}^\\mathsf{T}\n",
    "\n",
    "\\end{align*}\n",
    "$$"
   ]
  },
  {
   "cell_type": "markdown",
   "metadata": {},
   "source": [
    "<span style=\"border: solid 1px; padding: 4px;\">Prop.</span> Determinant\n",
    "\n",
    "$$\n",
    "\\begin{align*}\n",
    "\\mathrm{det}(\\mathbf A^{\\mathsf T}) &= \\mathrm{det}(\\mathbf A) \\\\\n",
    "\\mathrm{det}(k \\mathbf A) &= k^{n} \\ \\mathrm{det}(\\mathbf A)\n",
    "\\end{align*}\n",
    "$$"
   ]
  },
  {
   "cell_type": "markdown",
   "metadata": {},
   "source": []
  }
 ],
 "metadata": {
  "kernelspec": {
   "display_name": "base",
   "language": "python",
   "name": "python3"
  },
  "language_info": {
   "codemirror_mode": {
    "name": "ipython",
    "version": 3
   },
   "file_extension": ".py",
   "mimetype": "text/x-python",
   "name": "python",
   "nbconvert_exporter": "python",
   "pygments_lexer": "ipython3",
   "version": "3.11.0"
  }
 },
 "nbformat": 4,
 "nbformat_minor": 2
}
