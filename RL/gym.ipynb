{
 "cells": [
  {
   "cell_type": "code",
   "execution_count": 4,
   "metadata": {},
   "outputs": [
    {
     "name": "stdout",
     "output_type": "stream",
     "text": [
      "env = <TimeLimit<OrderEnforcing<PassiveEnvChecker<LunarLander<LunarLander-v2>>>>>\n",
      "observation = array([ 0.00229702,  1.4181306 ,  0.23264714,  0.32046658, -0.00265488,\n",
      "       -0.05269808,  0.        ,  0.        ], dtype=float32)\n",
      "info = {}\n",
      "----0-----\n",
      "action = 3\n",
      "observation = array([ 0.00465546,  1.4247642 ,  0.2400411 ,  0.29480776, -0.00680472,\n",
      "       -0.08300382,  0.        ,  0.        ], dtype=float32)\n",
      "reward = 0.4747700226269853\n",
      "terminated = False\n",
      "truncated = False\n",
      "info = {}\n",
      "----1-----\n",
      "action = 2\n",
      "observation = array([ 0.00706854,  1.4321904 ,  0.2452662 ,  0.33003598, -0.01072065,\n",
      "       -0.07832576,  0.        ,  0.        ], dtype=float32)\n",
      "reward = -4.537181715469518\n",
      "terminated = False\n",
      "truncated = False\n",
      "info = {}\n",
      "----2-----\n",
      "action = 1\n",
      "observation = array([ 0.00939741,  1.4390242 ,  0.23470101,  0.30370557, -0.01251426,\n",
      "       -0.03587538,  0.        ,  0.        ], dtype=float32)\n",
      "reward = 1.842692457309796\n",
      "terminated = False\n",
      "truncated = False\n",
      "info = {}\n",
      "----3-----\n",
      "action = 2\n",
      "observation = array([ 0.01188288,  1.4467976 ,  0.24966764,  0.34547177, -0.01361996,\n",
      "       -0.02211596,  0.        ,  0.        ], dtype=float32)\n",
      "reward = -5.431706192828716\n",
      "terminated = False\n",
      "truncated = False\n",
      "info = {}\n",
      "----4-----\n",
      "action = 2\n",
      "observation = array([ 0.01426897,  1.4553134 ,  0.24026677,  0.37846664, -0.01525883,\n",
      "       -0.03278059,  0.        ,  0.        ], dtype=float32)\n",
      "reward = -3.522233595340867\n",
      "terminated = False\n",
      "truncated = False\n",
      "info = {}\n",
      "----5-----\n",
      "action = 1\n",
      "observation = array([ 0.01655846,  1.4632306 ,  0.22814731,  0.35188118, -0.01446559,\n",
      "        0.01586651,  0.        ,  0.        ], dtype=float32)\n",
      "reward = 2.1473231678537856\n",
      "terminated = False\n",
      "truncated = False\n",
      "info = {}\n",
      "----6-----\n",
      "action = 3\n",
      "observation = array([ 0.01893377,  1.4705377 ,  0.23891523,  0.3247425 , -0.01583555,\n",
      "       -0.02740176,  0.        ,  0.        ], dtype=float32)\n",
      "reward = 0.7204983164054692\n",
      "terminated = False\n",
      "truncated = False\n",
      "info = {}\n",
      "----7-----\n",
      "action = 3\n",
      "observation = array([ 0.02140636,  1.4772483 ,  0.25111246,  0.2982087 , -0.01964711,\n",
      "       -0.07623832,  0.        ,  0.        ], dtype=float32)\n",
      "reward = 0.245111529367706\n",
      "terminated = False\n",
      "truncated = False\n",
      "info = {}\n",
      "----8-----\n",
      "action = 0\n",
      "observation = array([ 0.02387905,  1.4833591 ,  0.2511242 ,  0.27153915, -0.0234575 ,\n",
      "       -0.07621463,  0.        ,  0.        ], dtype=float32)\n",
      "reward = 1.0034739643524517\n",
      "terminated = False\n",
      "truncated = False\n",
      "info = {}\n",
      "----9-----\n",
      "action = 3\n",
      "observation = array([ 0.0264185 ,  1.4888672 ,  0.2594815 ,  0.24470618, -0.02894196,\n",
      "       -0.10969909,  0.        ,  0.        ], dtype=float32)\n",
      "reward = 0.18583535433268253\n",
      "terminated = False\n",
      "truncated = False\n",
      "info = {}\n"
     ]
    }
   ],
   "source": [
    "import gymnasium as gym\n",
    "\n",
    "env = gym.make(\"LunarLander-v2\", render_mode=\"human\")\n",
    "print(f\"{env = }\")\n",
    "\n",
    "observation, info = env.reset(seed=42)\n",
    "print(f\"{observation = }\")\n",
    "print(f\"{info = }\")\n",
    "\n",
    "for i in range(10):\n",
    "    print(f\"{i:-^10}\")\n",
    " \n",
    "    action = env.action_space.sample()  # this is where you would insert your policy\n",
    "    print(f\"{action = }\")\n",
    "    \n",
    "    observation, reward, terminated, truncated, info = env.step(action)\n",
    "    print(f\"{observation = }\")\n",
    "    print(f\"{reward = }\")\n",
    "    print(f\"{terminated = }\")\n",
    "    print(f\"{truncated = }\")\n",
    "    print(f\"{info = }\")\n",
    " \n",
    "    if terminated or truncated:\n",
    "        observation, info = env.reset()\n",
    "env.close()"
   ]
  },
  {
   "cell_type": "code",
   "execution_count": 12,
   "metadata": {},
   "outputs": [
    {
     "data": {
      "text/plain": [
       "tensor([[0.0064, 0.1437, 0.0000,  ..., 0.1029, 0.0000, 0.0432],\n",
       "        [0.0693, 0.0168, 0.0661,  ..., 0.1385, 0.2116, 0.0626]],\n",
       "       grad_fn=<ReshapeAliasBackward0>)"
      ]
     },
     "execution_count": 12,
     "metadata": {},
     "output_type": "execute_result"
    },
    {
     "ename": "",
     "evalue": "",
     "output_type": "error",
     "traceback": [
      "\u001b[1;31mThe Kernel crashed while executing code in the the current cell or a previous cell. Please review the code in the cell(s) to identify a possible cause of the failure. Click <a href='https://aka.ms/vscodeJupyterKernelCrash'>here</a> for more info. View Jupyter <a href='command:jupyter.viewOutput'>log</a> for further details."
     ]
    }
   ],
   "source": [
    "import torch\n",
    "import torch.nn as nn\n",
    "from torchvision.models import resnet50, ResNet50_Weights\n",
    "\n",
    "class Net(nn.Module):\n",
    "    def __init__(self, backbone):\n",
    "        super().__init__()\n",
    "        self.backbone = backbone\n",
    "    \n",
    "    def forward(self, x):\n",
    "        x = self.backbone(x)\n",
    "        return x\n",
    "\n",
    "backbone = resnet50(weights=ResNet50_Weights.DEFAULT)\n",
    "backbone.fc = nn.Identity()\n",
    "\n",
    "model = Net(backbone=backbone)\n",
    "model(torch.randn(2, 3, 224, 224))"
   ]
  },
  {
   "cell_type": "code",
   "execution_count": null,
   "metadata": {},
   "outputs": [],
   "source": []
  }
 ],
 "metadata": {
  "kernelspec": {
   "display_name": "base",
   "language": "python",
   "name": "python3"
  },
  "language_info": {
   "codemirror_mode": {
    "name": "ipython",
    "version": 3
   },
   "file_extension": ".py",
   "mimetype": "text/x-python",
   "name": "python",
   "nbconvert_exporter": "python",
   "pygments_lexer": "ipython3",
   "version": "3.9.12"
  },
  "orig_nbformat": 4
 },
 "nbformat": 4,
 "nbformat_minor": 2
}
