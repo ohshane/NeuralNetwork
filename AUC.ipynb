{
 "cells": [
  {
   "cell_type": "code",
   "execution_count": 1,
   "metadata": {},
   "outputs": [],
   "source": [
    "import numpy as np\n",
    "import matplotlib.pyplot as plt\n",
    "from matplotlib import gridspec\n",
    "import ipywidgets as widgets\n",
    "from scipy.stats import norm\n",
    "from collections import deque"
   ]
  },
  {
   "cell_type": "code",
   "execution_count": 2,
   "metadata": {},
   "outputs": [
    {
     "data": {
      "application/vnd.jupyter.widget-view+json": {
       "model_id": "d798bc03a8864219bc145615a1e96d46",
       "version_major": 2,
       "version_minor": 0
      },
      "text/plain": [
       "interactive(children=(FloatSlider(value=2.0, description='mu', max=4.0, min=-1.0), FloatSlider(value=-1.0, des…"
      ]
     },
     "metadata": {},
     "output_type": "display_data"
    }
   ],
   "source": [
    "prev_mu = 2\n",
    "roc = deque(maxlen=200)\n",
    "pr = deque(maxlen=200)\n",
    "\n",
    "X = np.linspace(-4,4,81)\n",
    "pdf = norm.pdf(X)\n",
    "\n",
    "@widgets.interact(mu=(-1., 4.), theta=(-4.,8.))\n",
    "def show(mu=prev_mu, theta=-1):\n",
    "    plt.figure(figsize=(9,6))\n",
    "    gs = gridspec.GridSpec(2,3)\n",
    "\n",
    "    ax = plt.subplot(gs[0:3])\n",
    "    ax.plot(X, pdf, c=\"tab:orange\", label=\"pos.\")\n",
    "    ax.plot(X+mu, pdf, c=\"tab:blue\", label=\"neg.\")\n",
    "    ax.axvline(theta, c='k')\n",
    "    ax.annotate('pos ◀ ', (theta,.2), ha=\"right\", c=\"tab:orange\")\n",
    "    ax.annotate(' ▶ neg', (theta,.2), ha=\"left\", c=\"tab:blue\")\n",
    "    ax.set_ylim(0)\n",
    "    ax.set_xlim(-4,8)\n",
    "    ax.legend(loc=1)\n",
    "\n",
    "    ax = plt.subplot(gs[3])\n",
    "    ax.set_title(\"CM\")\n",
    "    ax.set_xticks([])\n",
    "    ax.set_yticks([])\n",
    "\n",
    "    TP = norm.cdf(theta)\n",
    "    FP = norm.cdf(theta - mu)\n",
    "    FN = 1 - TP\n",
    "    TN = 1 - FP\n",
    "    cm = [[TP, FN],\n",
    "          [FP, TN]]\n",
    "    \n",
    "    ax.imshow(cm, cmap=\"binary\")\n",
    "    ax.text(0, 0, \"TP\", ha=\"center\", bbox=dict(facecolor=\"tab:orange\"))\n",
    "    ax.text(1, 0, \"FN\", ha=\"center\", bbox=dict(facecolor=\"tab:orange\"))\n",
    "    ax.text(0, 1, \"FP\", ha=\"center\", bbox=dict(facecolor=\"tab:blue\"))\n",
    "    ax.text(1, 1, \"TN\", ha=\"center\", bbox=dict(facecolor=\"tab:blue\"))\n",
    "\n",
    "    global prev_mu\n",
    "    if prev_mu != mu:\n",
    "        roc.clear()\n",
    "        pr.clear()\n",
    "        prev_mu = mu\n",
    "\n",
    "    ax = plt.subplot(gs[4])\n",
    "    ax.set_title(\"ROC\")\n",
    "    ax.set_xticks(np.linspace(0,1,6))\n",
    "    ax.set_yticks(np.linspace(0,1,6))\n",
    "    ax.set_xlim(0,1)\n",
    "    ax.set_ylim(0,1)\n",
    "    ax.set_xlabel(\"FPR\")\n",
    "    ax.set_ylabel(\"TPR\")\n",
    "    ax.grid(lw=.2)\n",
    "    roc.append([FP,TP])\n",
    "    ax.plot(*np.array(sorted(roc)).T, marker='x')\n",
    "\n",
    "    ax = plt.subplot(gs[5])\n",
    "    ax.set_title(\"PR\")\n",
    "    ax.set_xticks(np.linspace(0,1,6))\n",
    "    ax.set_yticks(np.linspace(0,1,6))\n",
    "    ax.set_xlim(0,1)\n",
    "    ax.set_ylim(0,1)\n",
    "    ax.set_xlabel(\"Recall\")\n",
    "    ax.set_ylabel(\"Precision\")\n",
    "    ax.grid(lw=.2)\n",
    "    pr.append([TP, TP/(TP+FP)])\n",
    "    ax.plot(*np.array(sorted(pr)).T, marker='x')\n",
    "\n",
    "    plt.tight_layout()\n",
    "    plt.show()"
   ]
  }
 ],
 "metadata": {
  "kernelspec": {
   "display_name": "base",
   "language": "python",
   "name": "python3"
  },
  "language_info": {
   "codemirror_mode": {
    "name": "ipython",
    "version": 3
   },
   "file_extension": ".py",
   "mimetype": "text/x-python",
   "name": "python",
   "nbconvert_exporter": "python",
   "pygments_lexer": "ipython3",
   "version": "3.11.0"
  }
 },
 "nbformat": 4,
 "nbformat_minor": 2
}
