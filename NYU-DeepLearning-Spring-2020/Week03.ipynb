{
 "cells": [
  {
   "cell_type": "code",
   "execution_count": 44,
   "metadata": {},
   "outputs": [],
   "source": [
    "import torch\n",
    "import torch.nn as nn\n",
    "import torch.nn.functional as F\n",
    "import torch.autograd as autograd\n",
    "\n",
    "import matplotlib.pyplot as plt"
   ]
  },
  {
   "cell_type": "markdown",
   "metadata": {},
   "source": [
    "### Cross entropy"
   ]
  },
  {
   "cell_type": "code",
   "execution_count": 45,
   "metadata": {},
   "outputs": [
    {
     "name": "stdout",
     "output_type": "stream",
     "text": [
      "y_hat = tensor([ 1.5396,  0.4895, -1.5716])\n",
      "y_hat.argmax(0) = tensor(0)\n",
      "\n",
      "y_hat.softmax(0) = tensor([0.7171, 0.2509, 0.0319])\n",
      "y_hat.softmax(0).sum() = tensor(1.0000)\n",
      "\n",
      "y_hat.softmax(0).log() = tensor([-0.3325, -1.3826, -3.4437])\n",
      "y_hat.log_softmax(0) = tensor([-0.3325, -1.3826, -3.4437])\n",
      "\n",
      "-y_hat.log_softmax(0)[y_hat.argmax(0)] = tensor(0.3325)\n",
      "crossentropy(y_hat, torch.tensor([1., 0., 0.])) = tensor(0.3325)\n"
     ]
    },
    {
     "data": {
      "image/png": "[encoded data removed]",
      "text/plain": [
       "<Figure size 864x288 with 4 Axes>"
      ]
     },
     "metadata": {
      "needs_background": "light"
     },
     "output_type": "display_data"
    }
   ],
   "source": [
    "crossentropy = nn.CrossEntropyLoss()\n",
    "y_hat = torch.randn(3)\n",
    "y_hat, _ = y_hat.sort(descending=True)\n",
    "y_hat\n",
    "\n",
    "print(f'{y_hat = }')\n",
    "print(f'{y_hat.argmax(0) = }')\n",
    "print()\n",
    "\n",
    "print(f'{y_hat.softmax(0) = }')\n",
    "print(f'{y_hat.softmax(0).sum() = }')\n",
    "print()\n",
    "\n",
    "print(f'{y_hat.softmax(0).log() = }')\n",
    "print(f'{y_hat.log_softmax(0) = }')\n",
    "print()\n",
    "\n",
    "print(f'{-y_hat.log_softmax(0)[y_hat.argmax(0)] = }')\n",
    "print(f'{crossentropy(y_hat, torch.tensor([1., 0., 0.])) = }')\n",
    "\n",
    "plt.figure(figsize=(12,4))\n",
    "plt.subplot(141)\n",
    "plt.title(r'$\\hat{y}$')\n",
    "plt.bar(range(len(y_hat)), y_hat)\n",
    "plt.axhline(0, c='k', lw=1)\n",
    "\n",
    "plt.subplot(142)\n",
    "plt.title(r'$softmax(\\hat{y})$')\n",
    "plt.bar(range(len(y_hat)), y_hat.softmax(0))\n",
    "plt.axhline(0, c='k', lw=1)\n",
    "\n",
    "plt.subplot(143)\n",
    "plt.title(r'$-logsoftmax(\\hat{y})$')\n",
    "plt.bar(range(len(y_hat)), -y_hat.log_softmax(0))\n",
    "plt.bar(0, -y_hat.log_softmax(0)[y_hat.argmax(0)], label='CrossEntropyLoss')\n",
    "plt.axhline(0, c='k', lw=1)\n",
    "plt.legend()\n",
    "\n",
    "plt.subplot(144)\n",
    "plt.title(r'$MSE(softmax(\\hat{y}), onehot(y))$')\n",
    "plt.bar(range(len(y_hat)), (1-y_hat.softmax(0))**2)\n",
    "plt.axhline(0, c='k', lw=1)\n",
    "plt.show()"
   ]
  },
  {
   "cell_type": "markdown",
   "metadata": {},
   "source": [
    "$$\n",
    "\\mathbf{J} = \\\n",
    "\\dfrac{d\\mathbf{f(x)}}{d\\mathbf{x}} = \\\n",
    "\\begin{bmatrix} \\dfrac{\\partial{\\mathbf{f(x)}}}{\\partial{x_1}} & \\cdots & \\dfrac{\\partial{\\mathbf{f(x)}}}{\\partial{x_n}} \\end{bmatrix} = \\\n",
    "\\begin{bmatrix} \\nabla^{\\intercal}f_1 \\\\ \\vdots \\\\ \\nabla^{\\intercal}f_m \\end{bmatrix} = \\\n",
    "\\begin{bmatrix}\n",
    "\\dfrac{\\partial{f_1}}{\\partial{x_1}} & \\cdots & \\dfrac{\\partial{f_1}}{\\partial{x_n}} \\\\\n",
    "\\vdots & \\ddots & \\vdots \\\\\n",
    "\\dfrac{\\partial{f_m}}{\\partial{x_1}} & \\cdots & \\dfrac{\\partial{f_m}}{\\partial{x_n}} \\\\\n",
    "\\end{bmatrix}\n",
    "$$\n"
   ]
  },
  {
   "cell_type": "code",
   "execution_count": 94,
   "metadata": {},
   "outputs": [
    {
     "ename": "TypeError",
     "evalue": "'Tensor' object is not callable",
     "output_type": "error",
     "traceback": [
      "\u001b[0;31m---------------------------------------------------------------------------\u001b[0m",
      "\u001b[0;31mTypeError\u001b[0m                                 Traceback (most recent call last)",
      "\u001b[1;32m/home/shane/workspace/NeuralNetwork/NYU-DeepLearning-Spring-2020/Week03.ipynb Cell 5\u001b[0m in \u001b[0;36m<cell line: 7>\u001b[0;34m()\u001b[0m\n\u001b[1;32m      <a href='vscode-notebook-cell:/home/shane/workspace/NeuralNetwork/NYU-DeepLearning-Spring-2020/Week03.ipynb#W4sZmlsZQ%3D%3D?line=2'>3</a>\u001b[0m w, b \u001b[39m=\u001b[39m f\u001b[39m.\u001b[39mweight, f\u001b[39m.\u001b[39mbias\n\u001b[1;32m      <a href='vscode-notebook-cell:/home/shane/workspace/NeuralNetwork/NYU-DeepLearning-Spring-2020/Week03.ipynb#W4sZmlsZQ%3D%3D?line=4'>5</a>\u001b[0m y_hat \u001b[39m=\u001b[39m w\u001b[39m@x\u001b[39m\u001b[39m+\u001b[39mb\n\u001b[0;32m----> <a href='vscode-notebook-cell:/home/shane/workspace/NeuralNetwork/NYU-DeepLearning-Spring-2020/Week03.ipynb#W4sZmlsZQ%3D%3D?line=6'>7</a>\u001b[0m autograd\u001b[39m.\u001b[39;49mfunctional\u001b[39m.\u001b[39;49mjacobian(y_hat, x)\n",
      "File \u001b[0;32m~/.pyenv/versions/anaconda3-2022.05/lib/python3.9/site-packages/torch/autograd/functional.py:575\u001b[0m, in \u001b[0;36mjacobian\u001b[0;34m(func, inputs, create_graph, strict, vectorize, strategy)\u001b[0m\n\u001b[1;32m    572\u001b[0m is_inputs_tuple, inputs \u001b[39m=\u001b[39m _as_tuple(inputs, \u001b[39m\"\u001b[39m\u001b[39minputs\u001b[39m\u001b[39m\"\u001b[39m, \u001b[39m\"\u001b[39m\u001b[39mjacobian\u001b[39m\u001b[39m\"\u001b[39m)\n\u001b[1;32m    573\u001b[0m inputs \u001b[39m=\u001b[39m _grad_preprocess(inputs, create_graph\u001b[39m=\u001b[39mcreate_graph, need_graph\u001b[39m=\u001b[39m\u001b[39mTrue\u001b[39;00m)\n\u001b[0;32m--> 575\u001b[0m outputs \u001b[39m=\u001b[39m func(\u001b[39m*\u001b[39;49minputs)\n\u001b[1;32m    576\u001b[0m is_outputs_tuple, outputs \u001b[39m=\u001b[39m _as_tuple(outputs,\n\u001b[1;32m    577\u001b[0m                                       \u001b[39m\"\u001b[39m\u001b[39moutputs of the user-provided function\u001b[39m\u001b[39m\"\u001b[39m,\n\u001b[1;32m    578\u001b[0m                                       \u001b[39m\"\u001b[39m\u001b[39mjacobian\u001b[39m\u001b[39m\"\u001b[39m)\n\u001b[1;32m    579\u001b[0m _check_requires_grad(outputs, \u001b[39m\"\u001b[39m\u001b[39moutputs\u001b[39m\u001b[39m\"\u001b[39m, strict\u001b[39m=\u001b[39mstrict)\n",
      "\u001b[0;31mTypeError\u001b[0m: 'Tensor' object is not callable"
     ]
    }
   ],
   "source": [
    "x = torch.linspace(-1, 1, 3)\n",
    "f = nn.Linear(3, 2, bias=True)\n",
    "w, b = f.weight, f.bias\n",
    "\n",
    "y_hat = w@x+b\n",
    "\n",
    "autograd.functional.jacobian(y_hat, x)"
   ]
  }
 ],
 "metadata": {
  "kernelspec": {
   "display_name": "Python 3.9.12 64-bit ('base')",
   "language": "python",
   "name": "python3"
  },
  "language_info": {
   "codemirror_mode": {
    "name": "ipython",
    "version": 3
   },
   "file_extension": ".py",
   "mimetype": "text/x-python",
   "name": "python",
   "nbconvert_exporter": "python",
   "pygments_lexer": "ipython3",
   "version": "3.9.12"
  },
  "orig_nbformat": 4,
  "vscode": {
   "interpreter": {
    "hash": "86a3fa51e47a3c6fa0bce57667ba8eb4910bcc53a8cc182fec4d85739eda0a22"
   }
  }
 },
 "nbformat": 4,
 "nbformat_minor": 2
}
