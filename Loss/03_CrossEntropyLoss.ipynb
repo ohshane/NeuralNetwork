{
 "cells": [
  {
   "cell_type": "code",
   "execution_count": 111,
   "metadata": {},
   "outputs": [],
   "source": [
    "import torch\n",
    "import torch.nn as nn\n",
    "import torch.functional as F\n",
    "from torch.nn.modules import loss\n",
    "import numpy as np\n",
    "import matplotlib.pyplot as plt"
   ]
  },
  {
   "cell_type": "markdown",
   "metadata": {},
   "source": [
    "# CrossEntropyLoss"
   ]
  },
  {
   "cell_type": "markdown",
   "metadata": {},
   "source": [
    "<iframe src=\"https://pytorch.org/docs/stable/generated/torch.nn.CrossEntropyLoss.html#crossentropyloss\" width=1000 height=400></iframe>"
   ]
  },
  {
   "cell_type": "markdown",
   "metadata": {},
   "source": [
    "## unbatched"
   ]
  },
  {
   "cell_type": "markdown",
   "metadata": {},
   "source": [
    "### with index"
   ]
  },
  {
   "cell_type": "code",
   "execution_count": 112,
   "metadata": {},
   "outputs": [
    {
     "name": "stdout",
     "output_type": "stream",
     "text": [
      "ŷ = tensor([ 1.0789,  0.8601,  0.6842, -0.3649])\n",
      "y = 0\n"
     ]
    }
   ],
   "source": [
    "y_hat = torch.randn(4)\n",
    "y = y_hat.argmax()\n",
    "\n",
    "print(f\"ŷ = {y_hat}\")\n",
    "print(f\"y = {y}\")"
   ]
  },
  {
   "cell_type": "code",
   "execution_count": 113,
   "metadata": {},
   "outputs": [
    {
     "data": {
      "text/plain": [
       "(tensor(0.9982), tensor(0.9982))"
      ]
     },
     "execution_count": 113,
     "metadata": {},
     "output_type": "execute_result"
    }
   ],
   "source": [
    "nn.CrossEntropyLoss()(y_hat, y), nn.CrossEntropyLoss(reduction='mean')(y_hat, y)"
   ]
  },
  {
   "cell_type": "code",
   "execution_count": 114,
   "metadata": {},
   "outputs": [
    {
     "name": "stdout",
     "output_type": "stream",
     "text": [
      "ŷ = tensor([ 1.0789,  0.8601,  0.6842, -0.3649])\n",
      "y = tensor([1., 0., 0., 0.])\n"
     ]
    }
   ],
   "source": [
    "y = [0]*len(y_hat)\n",
    "y[y_hat.argmax()] = 1\n",
    "y = torch.FloatTensor(y)\n",
    "\n",
    "print(f\"ŷ = {y_hat}\")\n",
    "print(f\"y = {y}\")"
   ]
  },
  {
   "cell_type": "code",
   "execution_count": 115,
   "metadata": {},
   "outputs": [
    {
     "data": {
      "text/plain": [
       "tensor(0.9982)"
      ]
     },
     "execution_count": 115,
     "metadata": {},
     "output_type": "execute_result"
    }
   ],
   "source": [
    "nn.CrossEntropyLoss()(y_hat, y)"
   ]
  },
  {
   "cell_type": "markdown",
   "metadata": {},
   "source": [
    "---"
   ]
  },
  {
   "cell_type": "code",
   "execution_count": 116,
   "metadata": {},
   "outputs": [],
   "source": [
    "from PIL import ImageFont\n",
    "from PIL import Image\n",
    "from PIL import ImageDraw\n",
    "from pathlib import Path\n",
    "\n",
    "\n",
    "fonts = {\n",
    "    'Arial': [],\n",
    "    'Georgia': [],\n",
    "}\n",
    "\n",
    "fonts_path = Path('resource') / 'fonts'\n",
    "for f in fonts:\n",
    "    for i in range(ord('A'), ord('Z')+1):\n",
    "        font = ImageFont.truetype(str((fonts_path/f'{f}.ttf').absolute()), 500)\n",
    "        img = Image.new('RGB', (512,512), (0,0,0))\n",
    "        draw = ImageDraw.Draw(img)\n",
    "        draw.text((256,256), chr(i), (255,255,255), font=font, anchor='mm')\n",
    "        draw = ImageDraw.Draw(img)\n",
    "\n",
    "        fonts[f].append(img)"
   ]
  },
  {
   "cell_type": "code",
   "execution_count": 117,
   "metadata": {},
   "outputs": [],
   "source": [
    "for k, v in fonts.items():\n",
    "    fonts[k] = dict(zip(map(chr, range(ord('A'), ord('Z')+1)), v))"
   ]
  },
  {
   "cell_type": "code",
   "execution_count": 118,
   "metadata": {},
   "outputs": [
    {
     "data": {
      "image/png": "[encoded data removed]",
      "text/plain": [
       "<Figure size 432x288 with 6 Axes>"
      ]
     },
     "metadata": {},
     "output_type": "display_data"
    }
   ],
   "source": [
    "from torchvision import transforms\n",
    "\n",
    "T = transforms.Compose([\n",
    "    transforms.Resize(28),\n",
    "    transforms.Grayscale(),\n",
    "    transforms.GaussianBlur(5, (2,2)),\n",
    "])\n",
    "\n",
    "arial_a = T(fonts['Arial']['A'])\n",
    "arial_b = T(fonts['Arial']['B'])\n",
    "arial_c = T(fonts['Arial']['C'])\n",
    "georgia_a = T(fonts['Georgia']['A'])\n",
    "georgia_b = T(fonts['Georgia']['B'])\n",
    "georgia_c = T(fonts['Georgia']['C'])\n",
    "\n",
    "plt.figure(figsize=(6,4))\n",
    "plt.subplot(231)\n",
    "plt.title('Arial \"A\"')\n",
    "plt.imshow(arial_a, cmap='binary_r')\n",
    "plt.xticks([])\n",
    "plt.yticks([])\n",
    "\n",
    "plt.subplot(232)\n",
    "plt.title('Arial \"B\"')\n",
    "plt.imshow(arial_b, cmap='binary_r')\n",
    "plt.xticks([])\n",
    "plt.yticks([])\n",
    "\n",
    "plt.subplot(233)\n",
    "plt.title('Arial \"C\"')\n",
    "plt.imshow(arial_c, cmap='binary_r')\n",
    "plt.xticks([])\n",
    "plt.yticks([])\n",
    "\n",
    "plt.subplot(234)\n",
    "plt.title('Georgia \"A\"')\n",
    "plt.imshow(georgia_a, cmap='binary_r')\n",
    "plt.xticks([])\n",
    "plt.yticks([])\n",
    "\n",
    "plt.subplot(235)\n",
    "plt.title('Georgia \"B\"')\n",
    "plt.imshow(georgia_b, cmap='binary_r')\n",
    "plt.xticks([])\n",
    "plt.yticks([])\n",
    "\n",
    "plt.subplot(236)\n",
    "plt.title('Georgia \"C\"')\n",
    "plt.imshow(georgia_c, cmap='binary_r')\n",
    "plt.xticks([])\n",
    "plt.yticks([])\n",
    "plt.show()"
   ]
  },
  {
   "cell_type": "code",
   "execution_count": 119,
   "metadata": {},
   "outputs": [
    {
     "name": "stdout",
     "output_type": "stream",
     "text": [
      "Arial \"A\" <-> Georgia \"A\"  10.963\n",
      "Arial \"A\" <-> Georgia \"B\"  15.280\n",
      "Arial \"A\" <-> Georgia \"C\"  11.104\n",
      "\n",
      "Arial \"B\" <-> Georgia \"A\"  11.414\n",
      "Arial \"B\" <-> Georgia \"B\"  15.090\n",
      "Arial \"B\" <-> Georgia \"C\"  10.783\n",
      "\n",
      "Arial \"C\" <-> Georgia \"A\"  11.678\n",
      "Arial \"C\" <-> Georgia \"B\"  15.334\n",
      "Arial \"C\" <-> Georgia \"C\"  10.565\n",
      "\n"
     ]
    }
   ],
   "source": [
    "T = transforms.Compose([\n",
    "    transforms.Resize(28),\n",
    "    transforms.Grayscale(),\n",
    "    transforms.GaussianBlur(5, (2,2)),\n",
    "    transforms.ToTensor(),\n",
    "])\n",
    "\n",
    "arial_a = T(fonts['Arial']['A'])\n",
    "arial_b = T(fonts['Arial']['B'])\n",
    "arial_c = T(fonts['Arial']['C'])\n",
    "georgia_a = T(fonts['Georgia']['A'])\n",
    "georgia_b = T(fonts['Georgia']['B'])\n",
    "georgia_c = T(fonts['Georgia']['C'])\n",
    "\n",
    "crossentropy = nn.CrossEntropyLoss()\n",
    "print(f'Arial \"A\" <-> Georgia \"A\" {crossentropy(arial_a, georgia_a).item():7.3f}')\n",
    "print(f'Arial \"A\" <-> Georgia \"B\" {crossentropy(arial_a, georgia_b).item():7.3f}')\n",
    "print(f'Arial \"A\" <-> Georgia \"C\" {crossentropy(arial_a, georgia_c).item():7.3f}')\n",
    "print()\n",
    "\n",
    "print(f'Arial \"B\" <-> Georgia \"A\" {crossentropy(arial_b, georgia_a).item():7.3f}')\n",
    "print(f'Arial \"B\" <-> Georgia \"B\" {crossentropy(arial_b, georgia_b).item():7.3f}')\n",
    "print(f'Arial \"B\" <-> Georgia \"C\" {crossentropy(arial_b, georgia_c).item():7.3f}')\n",
    "print()\n",
    "\n",
    "print(f'Arial \"C\" <-> Georgia \"A\" {crossentropy(arial_c, georgia_a).item():7.3f}')\n",
    "print(f'Arial \"C\" <-> Georgia \"B\" {crossentropy(arial_c, georgia_b).item():7.3f}')\n",
    "print(f'Arial \"C\" <-> Georgia \"C\" {crossentropy(arial_c, georgia_c).item():7.3f}')\n",
    "print()"
   ]
  }
 ],
 "metadata": {
  "kernelspec": {
   "display_name": "Python 3.9.12 64-bit ('base')",
   "language": "python",
   "name": "python3"
  },
  "language_info": {
   "codemirror_mode": {
    "name": "ipython",
    "version": 3
   },
   "file_extension": ".py",
   "mimetype": "text/x-python",
   "name": "python",
   "nbconvert_exporter": "python",
   "pygments_lexer": "ipython3",
   "version": "3.9.12"
  },
  "orig_nbformat": 4,
  "vscode": {
   "interpreter": {
    "hash": "86a3fa51e47a3c6fa0bce57667ba8eb4910bcc53a8cc182fec4d85739eda0a22"
   }
  }
 },
 "nbformat": 4,
 "nbformat_minor": 2
}
