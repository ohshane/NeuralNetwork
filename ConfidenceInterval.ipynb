{
 "cells": [
  {
   "cell_type": "code",
   "execution_count": 1,
   "metadata": {},
   "outputs": [
    {
     "name": "stdout",
     "output_type": "stream",
     "text": [
      "n = 455\n",
      "x = 324\n",
      "x/n = 0.7120879120879121\n",
      "95% confidence interval: 0.668-0.753\n",
      "\n",
      "n = 151\n",
      "x = 121\n",
      "x/n = 0.8013245033112583\n",
      "95% confidence interval: 0.729-0.862\n",
      "\n",
      "n = 54\n",
      "x = 53\n",
      "x/n = 0.9814814814814815\n",
      "95% confidence interval: 0.901-1.000\n",
      "\n"
     ]
    }
   ],
   "source": [
    "import scipy.stats\n",
    "import math\n",
    "import random\n",
    "\n",
    "\n",
    "def clopper_pearson(x, n, alpha=0.05):\n",
    "    \"\"\"Estimate the confidence interval for a sampled Bernoulli random\n",
    "    variable.\n",
    "    `x` is the number of successes and `n` is the number trials (x <=\n",
    "    n). `alpha` is the confidence level (i.e., the true probability is\n",
    "    inside the confidence interval with probability 1-alpha). The\n",
    "    function returns a `(low, high)` pair of numbers indicating the\n",
    "    interval on the probability.\n",
    "    \"\"\"\n",
    "    b = scipy.stats.beta.ppf\n",
    "    lo = b(alpha / 2, x, n - x + 1)\n",
    "    hi = b(1 - alpha / 2, x + 1, n - x)\n",
    "    return 0.0 if math.isnan(lo) else lo, 1.0 if math.isnan(hi) else hi\n",
    "\n",
    "def show_clopper_pearson(x, n, alpha=0.05):\n",
    "    lo, hi = clopper_pearson(x, n, alpha)\n",
    "    print(f'{n = }')\n",
    "    print(f'{x = }')\n",
    "    print(f'{x/n = }')\n",
    "    print('95% confidence interval: {:.3f}-{:.3f}'.format(lo, hi))\n",
    "    print()\n",
    "\n",
    "\n",
    "# As a test, estimate the probability of a fair coin (p=0.5) using 100 flips.\n",
    "# total = 100\n",
    "# successes = 80\n",
    "# print(f'{total = }')\n",
    "# print(f'{successes = }')\n",
    "\n",
    "# lo, hi = clopper_pearson(successes, total)\n",
    "# print('95% confidence interval: {:.2f}-{:.2f}'.format(lo, hi))\n",
    "\n",
    "show_clopper_pearson(324, 455)\n",
    "show_clopper_pearson(121, 151)\n",
    "show_clopper_pearson(53, 54)"
   ]
  }
 ],
 "metadata": {
  "kernelspec": {
   "display_name": "Python 3.9.12 64-bit ('base')",
   "language": "python",
   "name": "python3"
  },
  "language_info": {
   "codemirror_mode": {
    "name": "ipython",
    "version": 3
   },
   "file_extension": ".py",
   "mimetype": "text/x-python",
   "name": "python",
   "nbconvert_exporter": "python",
   "pygments_lexer": "ipython3",
   "version": "3.9.12"
  },
  "orig_nbformat": 4,
  "vscode": {
   "interpreter": {
    "hash": "86a3fa51e47a3c6fa0bce57667ba8eb4910bcc53a8cc182fec4d85739eda0a22"
   }
  }
 },
 "nbformat": 4,
 "nbformat_minor": 2
}
